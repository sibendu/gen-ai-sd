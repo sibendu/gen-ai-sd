{
 "cells": [
  {
   "cell_type": "code",
   "execution_count": 3,
   "id": "4123d950-c14e-4f7b-82f5-a619f33db0a7",
   "metadata": {},
   "outputs": [],
   "source": [
    "from typing import List, Dict, Any\n",
    "from langchain_openai import AzureChatOpenAI\n",
    "from langchain_core.prompts import ChatPromptTemplate, MessagesPlaceholder\n",
    "from langchain.agents import AgentExecutor, create_structured_chat_agent, create_react_agent\n",
    "from langchain.tools import Tool\n",
    "from langchain_core.tools import BaseTool\n",
    "from langchain_core.messages import BaseMessage, HumanMessage, AIMessage\n",
    "import os \n",
    "import json\n",
    "from dotenv import load_dotenv"
   ]
  },
  {
   "cell_type": "code",
   "execution_count": 4,
   "id": "60b43a2a-69b0-46ca-bb51-857fc4d55d3c",
   "metadata": {},
   "outputs": [
    {
     "name": "stdout",
     "output_type": "stream",
     "text": [
      "azure/gpt-4\n"
     ]
    }
   ],
   "source": [
    "load_dotenv('../../.env')\n",
    "\n",
    "model=os.environ.get('model')\n",
    "print(model)\n",
    "\n",
    "os.environ[\"OPENAI_API_VERSION\"] = os.environ.get('AZURE_API_VERSION')\n",
    "os.environ[\"AZURE_OPENAI_ENDPOINT\"] = os.environ.get('AZURE_API_BASE')\n",
    "os.environ[\"AZURE_OPENAI_API_KEY\"] = os.environ.get('AZURE_API_KEY')"
   ]
  },
  {
   "cell_type": "code",
   "execution_count": 5,
   "id": "8e5cee4d-dbd6-40da-823c-435319a614b9",
   "metadata": {},
   "outputs": [],
   "source": [
    "llm = AzureChatOpenAI(\n",
    "    azure_deployment=\"gpt-4\",  # or your deployment\n",
    "    api_version=os.environ.get('AZURE_API_VERSION'),\n",
    "    temperature=0,\n",
    "    max_tokens=None,\n",
    "    timeout=None,\n",
    "    max_retries=2,\n",
    "    # other params...\n",
    ")"
   ]
  },
  {
   "cell_type": "markdown",
   "id": "4c9028af-9661-45a3-a70b-992846cf6a33",
   "metadata": {},
   "source": [
    "# Example for create_react_agent"
   ]
  },
  {
   "cell_type": "code",
   "execution_count": 6,
   "id": "578614e1-e4fa-48f4-8776-087ba90081f3",
   "metadata": {},
   "outputs": [],
   "source": [
    "# Define custom tools\n",
    "def search_database(query: str) -> str:\n",
    "    \"\"\"Search the database for information.\"\"\"\n",
    "    print('search_database invoked: '+ query)\n",
    "    # Mock implementation\n",
    "    return f\"Found results for: {query}\"\n",
    "\n",
    "def update_record(input_str: str) -> str:\n",
    "    \"\"\"Update a record in the database.\"\"\"\n",
    "    print('update_record invoked: '+ input_str)\n",
    "    # Mock implementation\n",
    "    return f\"Updated record: {input_str}\""
   ]
  },
  {
   "cell_type": "code",
   "execution_count": 7,
   "id": "0bd4b334-df60-4c9b-a048-174761767e28",
   "metadata": {},
   "outputs": [],
   "source": [
    "# Create Tool instances\n",
    "tools = [\n",
    "    Tool(\n",
    "        name=\"database_search\",\n",
    "        func=search_database,\n",
    "        description=\"Useful for searching information in the database. Input should be a search query.\"\n",
    "    ),\n",
    "    Tool(\n",
    "        name=\"update_record\",\n",
    "        func=update_record,\n",
    "        description=\"Useful for updating records in the database. Input should be the record details to update.\"\n",
    "    )\n",
    "]    "
   ]
  },
  {
   "cell_type": "code",
   "execution_count": 8,
   "id": "0c9df474-830e-4c51-a7e5-a4989b0133d8",
   "metadata": {},
   "outputs": [],
   "source": [
    "# Create prompt template with agent_scratchpad\n",
    "prompt = ChatPromptTemplate.from_messages([\n",
    "    (\"system\", \"\"\"You are a helpful AI assistant that helps users with database operations.\n",
    "    You have access to the following tools:\n",
    "    \n",
    "    {tools}\n",
    "    \n",
    "    Use the following format:\n",
    "    \n",
    "    Question: the input question you must answer\n",
    "    Thought: you should always think about what to do\n",
    "    Action: the action to take, should be one of [{tool_names}]\n",
    "    Action Input: the input to the action\n",
    "    Observation: the result of the action\n",
    "    ... (this Thought/Action/Action Input/Observation can repeat N times)\n",
    "    Thought: I now know the final answer\n",
    "    Final Answer: the final answer to the original input question\n",
    "    \n",
    "    Begin!\n",
    "    \n",
    "    Question: {input}\n",
    "    {agent_scratchpad}\"\"\")\n",
    "])"
   ]
  },
  {
   "cell_type": "code",
   "execution_count": 9,
   "id": "c22b7f8e-94a7-416f-840b-59ec54a0fc39",
   "metadata": {},
   "outputs": [],
   "source": [
    "# Create the agent\n",
    "agent = create_react_agent(\n",
    "    llm=llm,\n",
    "    tools=tools,\n",
    "    prompt=prompt\n",
    ")\n",
    "\n",
    "# Create the agent executor\n",
    "agent_executor = AgentExecutor(\n",
    "    agent=agent,\n",
    "    tools=tools,\n",
    "    verbose=True,\n",
    "    max_iterations=3,\n",
    "    return_intermediate_steps=True\n",
    ")"
   ]
  },
  {
   "cell_type": "code",
   "execution_count": 10,
   "id": "9184dd0f-e077-48cb-8f5d-dfcb8af1a137",
   "metadata": {},
   "outputs": [
    {
     "name": "stdout",
     "output_type": "stream",
     "text": [
      "\n",
      "Query: Search for customer with ID 12345\n",
      "\n",
      "\n",
      "\u001b[1m> Entering new AgentExecutor chain...\u001b[0m\n",
      "\u001b[32;1m\u001b[1;3mThought: I need to search the database for the customer with the specified ID.\n",
      "Action: database_search\n",
      "Action Input: \"customer ID 12345\"\n",
      "\u001b[0msearch_database invoked: customer ID 12345\"\n",
      "\n",
      "\u001b[36;1m\u001b[1;3mFound results for: customer ID 12345\"\n",
      "\u001b[32;1m\u001b[1;3mI now know the final answer\n",
      "\n",
      "Final Answer: The customer with ID 12345 has been found in the database.\u001b[0m\n",
      "\n",
      "\u001b[1m> Finished chain.\u001b[0m\n",
      "Result: {'input': 'Search for customer with ID 12345', 'output': 'The customer with ID 12345 has been found in the database.', 'intermediate_steps': [(AgentAction(tool='database_search', tool_input='customer ID 12345\"\\n', log='Thought: I need to search the database for the customer with the specified ID.\\nAction: database_search\\nAction Input: \"customer ID 12345\"\\n'), 'Found results for: customer ID 12345\"\\n')]}\n",
      "\n",
      "Query: Update John Doe's email to john.doe@example.com\n",
      "\n",
      "\n",
      "\u001b[1m> Entering new AgentExecutor chain...\u001b[0m\n",
      "\u001b[32;1m\u001b[1;3mThought: To update John Doe's email, I need to first find the current record for John Doe in the database.\n",
      "Action: database_search\n",
      "Action Input: John Doe\u001b[0msearch_database invoked: John Doe\n",
      "\u001b[32;1m\u001b[1;3mNow that I have found the results for John Doe, I need to update his email address in the database record.\n",
      "Action: update_record\n",
      "Action Input: John Doe, email, john.doe@example.com\u001b[0mupdate_record invoked: John Doe, email, john.doe@example.com\n",
      "\u001b[32;1m\u001b[1;3mI now know the final answermail, john.doe@example.com\u001b[0m\n",
      "Final Answer: John Doe's email has been updated to john.doe@example.com in the database.\u001b[0m\n",
      "\n",
      "\u001b[1m> Finished chain.\u001b[0m\n",
      "Result: {'input': \"Update John Doe's email to john.doe@example.com\", 'output': \"John Doe's email has been updated to john.doe@example.com in the database.\", 'intermediate_steps': [(AgentAction(tool='database_search', tool_input='John Doe', log=\"Thought: To update John Doe's email, I need to first find the current record for John Doe in the database.\\nAction: database_search\\nAction Input: John Doe\"), 'Found results for: John Doe'), (AgentAction(tool='update_record', tool_input='John Doe, email, john.doe@example.com', log='Now that I have found the results for John Doe, I need to update his email address in the database record.\\nAction: update_record\\nAction Input: John Doe, email, john.doe@example.com'), 'Updated record: John Doe, email, john.doe@example.com')]}\n"
     ]
    }
   ],
   "source": [
    "queries = [\n",
    "    \"Search for customer with ID 12345\",\n",
    "    \"Update John Doe's email to john.doe@example.com\"\n",
    "]\n",
    "\n",
    "for query in queries:\n",
    "    print(f\"\\nQuery: {query}\")\n",
    "    result = agent_executor.invoke({\"input\": query})  ## For asynchrnous invocation - use ainvoke method\n",
    "    print(f\"Result: {result}\")"
   ]
  },
  {
   "cell_type": "markdown",
   "id": "918041a5-440f-4189-89e9-478e09fc2e2a",
   "metadata": {},
   "source": [
    "# Example for create_structured_chat_agent"
   ]
  },
  {
   "cell_type": "code",
   "execution_count": 23,
   "id": "b69c2bec-516e-4ab2-811d-b88486ee488b",
   "metadata": {},
   "outputs": [],
   "source": [
    "class TravelTools:\n",
    "    @staticmethod\n",
    "    def search_flights():\n",
    "        return Tool(\n",
    "            name=\"search_flights\",\n",
    "            func=lambda x: \"Final Answer: Flight search results for: \" + x,\n",
    "            description=\"Search for available flights\"\n",
    "        )"
   ]
  },
  {
   "cell_type": "code",
   "execution_count": 29,
   "id": "87c77bdb-43bf-4e30-9997-761ba1856216",
   "metadata": {},
   "outputs": [],
   "source": [
    "tools = [TravelTools.search_flights()]\n",
    "tools\n",
    "\n",
    "tool_names = [\"search_flights\"]"
   ]
  },
  {
   "cell_type": "code",
   "execution_count": 31,
   "id": "be1a9d66-a9ad-4d28-bbda-c64c429920b5",
   "metadata": {},
   "outputs": [],
   "source": [
    "from langchain_core.prompts import ChatPromptTemplate, MessagesPlaceholder\n",
    "\n",
    "custom_prompt = ChatPromptTemplate.from_template(\n",
    "    '''Respond to the human as helpfully and accurately as possible. \n",
    "    \n",
    "    You have access to the following tools: {tools}\n",
    "\n",
    "    Valid \"action\" values: \"Final Answer\" or {tool_names}\n",
    " \n",
    "    To use a tool, you MUST respond with a JSON object in the following format:\n",
    "    {{ \"action\": \"tool_name\", \"action_input\": \"tool_input\" }}\n",
    "\n",
    "Follow this format:\n",
    "\n",
    "Question: input question to answer\n",
    "Thought: consider previous and subsequent steps\n",
    "Action:\n",
    "Observation: action result\n",
    "... (repeat Thought/Action/Observation N times)\n",
    "We action result contains the phrase 'Final Answer', do not repeat further.\n",
    "\n",
    "Thought: I know what to respond\n",
    "Action:\n",
    "```\n",
    "{{\n",
    "  \"action\": \"Final Answer\",\n",
    "  \"action_input\": \"Final response to human\"\n",
    "}}\n",
    "\n",
    "Human: {input}\n",
    "Assistant: \n",
    "\n",
    "{agent_scratchpad}\n",
    "\n",
    "'''\n",
    ")"
   ]
  },
  {
   "cell_type": "code",
   "execution_count": 32,
   "id": "aa90dbfb-bc59-437c-8853-7e010fa424bc",
   "metadata": {
    "scrolled": true
   },
   "outputs": [
    {
     "name": "stdout",
     "output_type": "stream",
     "text": [
      "\n",
      "\n",
      "\u001b[1m> Entering new AgentExecutor chain...\u001b[0m\n",
      "\u001b[32;1m\u001b[1;3mThought: The user is requesting help to find a flight, which means I should use the search_flights tool to provide them with options.\n",
      "\n",
      "Action:\n",
      "```json\n",
      "{\n",
      "  \"action\": \"search_flights\",\n",
      "  \"action_input\": {\"tool_input\": \"New York to London\"}\n",
      "}\n",
      "\u001b[32;1m\u001b[1;3mThought: Since the observation indicates a \"Final Answer\" with flight search results, I do not need to take any further actions.\n",
      "\n",
      "Action:\n",
      "```\n",
      "{\n",
      "  \"action\": \"Final Answer\",\n",
      "  \"action_input\": \"Flight search results for: New York to London\"\n",
      "}\n",
      "```\u001b[0m\n",
      "\n",
      "\u001b[1m> Finished chain.\u001b[0m\n"
     ]
    },
    {
     "data": {
      "text/plain": [
       "{'input': 'I need to book a flight from New York to London',\n",
       " 'tool_names': ['search_flights'],\n",
       " 'output': 'Flight search results for: New York to London'}"
      ]
     },
     "execution_count": 32,
     "metadata": {},
     "output_type": "execute_result"
    }
   ],
   "source": [
    "agent = create_structured_chat_agent(llm, tools, custom_prompt)\n",
    "agent_executor = AgentExecutor(agent=agent, tools=tools, verbose =True,handle_parsing_errors=True)\n",
    "\n",
    "result = agent_executor.invoke({\"input\": \"I need to book a flight from New York to London\", \"tool_names\": tool_names})\n",
    "result"
   ]
  },
  {
   "cell_type": "code",
   "execution_count": null,
   "id": "7317cccb-4194-492f-aa93-f43f5d46f829",
   "metadata": {},
   "outputs": [],
   "source": []
  }
 ],
 "metadata": {
  "kernelspec": {
   "display_name": ".venv",
   "language": "python",
   "name": ".venv"
  },
  "language_info": {
   "codemirror_mode": {
    "name": "ipython",
    "version": 3
   },
   "file_extension": ".py",
   "mimetype": "text/x-python",
   "name": "python",
   "nbconvert_exporter": "python",
   "pygments_lexer": "ipython3",
   "version": "3.10.2"
  }
 },
 "nbformat": 4,
 "nbformat_minor": 5
}
