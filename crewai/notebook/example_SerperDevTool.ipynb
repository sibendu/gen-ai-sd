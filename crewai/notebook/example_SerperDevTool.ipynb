{
 "cells": [
  {
   "cell_type": "code",
   "execution_count": 4,
   "id": "4aa6a877-2e6c-4453-9e02-f6e91e5ade38",
   "metadata": {},
   "outputs": [],
   "source": [
    "from crewai_tools import SerperDevTool"
   ]
  },
  {
   "cell_type": "code",
   "execution_count": 5,
   "id": "3da9539f-6205-4829-8008-223a9c9616e4",
   "metadata": {},
   "outputs": [
    {
     "data": {
      "text/plain": [
       "'C:\\\\Temp\\\\openai\\\\gen-ai-sd\\\\crewai\\\\.venv\\\\lib\\\\site-packages\\\\certifi\\\\cacert.pem'"
      ]
     },
     "execution_count": 5,
     "metadata": {},
     "output_type": "execute_result"
    }
   ],
   "source": [
    "import certifi\n",
    "\n",
    "certifi.where()"
   ]
  },
  {
   "cell_type": "markdown",
   "id": "cd8426e8-abc8-42b0-9225-7a67928a5da6",
   "metadata": {},
   "source": [
    "## Download and add the missing certificate to cacert.pem\n",
    "\n",
    "Download and save .pem format (single certificate, chain was not needed). For appending, just add at the end of cacert.pem file"
   ]
  },
  {
   "cell_type": "code",
   "execution_count": 6,
   "id": "196b1f31-8b1d-44ad-bb6b-f2d1967a355e",
   "metadata": {},
   "outputs": [
    {
     "name": "stdout",
     "output_type": "stream",
     "text": [
      "Using Tool: Search the internet with Serper\n"
     ]
    },
    {
     "data": {
      "text/plain": [
       "{'searchParameters': {'q': 'What is capital of India',\n",
       "  'type': 'search',\n",
       "  'num': 10,\n",
       "  'engine': 'google'},\n",
       " 'organic': [{'title': 'New Delhi - Wikipedia',\n",
       "   'link': 'https://en.wikipedia.org/wiki/New_Delhi',\n",
       "   'snippet': 'New Delhi is the capital of India and a part of the National Capital Territory of Delhi (NCT). New Delhi is the seat of all three branches of the Government ...',\n",
       "   'position': 1},\n",
       "  {'title': 'New Delhi | History, Population, Map, & Facts - Britannica',\n",
       "   'link': 'https://www.britannica.com/place/New-Delhi',\n",
       "   'snippet': 'New Delhi, national capital of India. It is situated in the north-central part of the country on the west bank of the Yamuna River.',\n",
       "   'position': 2},\n",
       "  {'title': 'List of capitals of India - Wikipedia',\n",
       "   'link': 'https://en.wikipedia.org/wiki/List_of_capitals_of_India',\n",
       "   'snippet': 'This is a list of locations which have served as capital cities in India. The current capital city is New Delhi, which replaced Calcutta in 1911.',\n",
       "   'position': 3},\n",
       "  {'title': 'The Capital of India | Know Your Country | National Geographic',\n",
       "   'link': 'https://www.youtube.com/watch?v=qELzANfST38',\n",
       "   'snippet': 'From the land of Pandavas, Indraprastha to now the capital region of the largest democracy, India, Delhi has been the face to many kingdoms ...',\n",
       "   'position': 4},\n",
       "  {'title': 'What is the capital of India? States and union territories explained.',\n",
       "   'link': 'https://www.usatoday.com/story/news/world/2023/05/24/what-is-the-capital-of-india/70195720007/',\n",
       "   'snippet': 'The capital of India is New Delhi, located in the north-central part of the country to the west of the Yamuna River. Calcutta (now Kolkata, the ...',\n",
       "   'position': 5},\n",
       "  {'title': 'Capital City of India - CountryReports.org',\n",
       "   'link': 'https://www.countryreports.org/country/India/capital-city.htm',\n",
       "   'snippet': \"What is the Capital of India? Capital City, New Delhi. Capital location, 28 36 N, 77 12 E. Capital - history, the city's name is associated with various myths ...\",\n",
       "   'position': 6},\n",
       "  {'title': 'Which City became the capital of India for a day, Check here',\n",
       "   'link': 'https://www.jagranjosh.com/general-knowledge/which-city-became-the-capital-of-india-for-a-day-1731421925-1',\n",
       "   'snippet': 'If you are asked what the capital of India is, your answer will be New Delhi, which was settled by the British.',\n",
       "   'position': 7},\n",
       "  {'title': 'Capital of India - Definition, Meaning & Synonyms - Vocabulary.com',\n",
       "   'link': 'https://www.vocabulary.com/dictionary/capital%20of%20India',\n",
       "   'snippet': 'the capital of India is a division of the old city of Delhi. synonyms: Indian capital, New Delhi. see moresee less. example of: national capital.',\n",
       "   'position': 8},\n",
       "  {'title': 'About Us | Government of National Capital Territory of Delhi',\n",
       "   'link': 'https://delhi.gov.in/page/about-us',\n",
       "   'snippet': 'In 1911, Delhi became the centre of all activities after the capital was shifted from Kolkata. It was made a Union Territory in 1956. Lying in the northern ...',\n",
       "   'position': 9},\n",
       "  {'title': \"What's The Capital Of India? Pt.346 - YouTube\",\n",
       "   'link': 'https://www.youtube.com/watch?v=BYmXhzWU0uM',\n",
       "   'snippet': \"What's The Capital Of India? Pt.346. 6.5K views · 2 months ago ...more. OddSox. 801K. Subscribe. 147. Share. Save.\",\n",
       "   'position': 10}],\n",
       " 'peopleAlsoAsk': [{'question': 'What is the capital of India?',\n",
       "   'snippet': 'New Delhi, national capital of India. It is situated in the north-central part of the country on the west bank of the Yamuna River, adjacent to and just south of Delhi city (Old Delhi) and within the Delhi national capital territory.',\n",
       "   'title': 'New Delhi | History, Population, Map, & Facts - Britannica',\n",
       "   'link': 'https://www.britannica.com/place/New-Delhi'},\n",
       "  {'question': 'Is Mumbai or New Delhi the capital of India?',\n",
       "   'snippet': 'When the national government achieved independence in 1947, New Delhi became the capital. Mumbai, the state capital of Maharashtra, is often considered the financial capital of India because of its role in the national and international economy.\\nMay 24, 2023',\n",
       "   'title': 'What is the capital of India? States and union territories explained.',\n",
       "   'link': 'https://www.usatoday.com/story/news/world/2023/05/24/what-is-the-capital-of-india/70195720007/'},\n",
       "  {'question': 'Why there are 2 capitals in India?',\n",
       "   'snippet': 'Himachal Pradesh has two capitals. The summer capital of Himachal Pradesh is Shimla. The winter capital of Himachal Pradesh is Dharamshala. The reason behind making two capitals is that the snow and roadblocks in harsh winters make it difficult to reach Shimla.',\n",
       "   'title': '[Solved] Which of these states in India has two capitals? - Testbook',\n",
       "   'link': 'https://testbook.com/question-answer/which-of-these-states-in-india-has-two-capitalsn--63a02595a0e01235670fd60e'},\n",
       "  {'question': 'What is the old name of Delhi?',\n",
       "   'snippet': 'Answer: The ancient name of Delhi is Indraprastha according to the Mahabharata era. Pandava once lived in Indraprastha.',\n",
       "   'title': 'What was the old name of Delhi - Unacademy',\n",
       "   'link': 'https://unacademy.com/content/question-answer/gk/what-was-the-old-name-of-delhi/'}],\n",
       " 'relatedSearches': [{'query': 'Mumbai'},\n",
       "  {'query': 'What is capital of india in which state'},\n",
       "  {'query': 'What is capital of india located in india'},\n",
       "  {'query': 'Capital of India before Delhi'},\n",
       "  {'query': 'What is capital of india in delhi'},\n",
       "  {'query': 'Second capital of India'},\n",
       "  {'query': 'First capital of India'},\n",
       "  {'query': 'Capital of India before 1772'},\n",
       "  {'query': 'Capital of India before 1911'}],\n",
       " 'credits': 1}"
      ]
     },
     "execution_count": 6,
     "metadata": {},
     "output_type": "execute_result"
    }
   ],
   "source": [
    "serper = SerperDevTool()\n",
    "serper.run(search_query=\"What is capital of India\")"
   ]
  },
  {
   "cell_type": "code",
   "execution_count": null,
   "id": "a8e25aa7-902d-4b84-92b6-6318b97887b5",
   "metadata": {},
   "outputs": [],
   "source": []
  }
 ],
 "metadata": {
  "kernelspec": {
   "display_name": ".venv",
   "language": "python",
   "name": ".venv"
  },
  "language_info": {
   "codemirror_mode": {
    "name": "ipython",
    "version": 3
   },
   "file_extension": ".py",
   "mimetype": "text/x-python",
   "name": "python",
   "nbconvert_exporter": "python",
   "pygments_lexer": "ipython3",
   "version": "3.10.2"
  }
 },
 "nbformat": 4,
 "nbformat_minor": 5
}
