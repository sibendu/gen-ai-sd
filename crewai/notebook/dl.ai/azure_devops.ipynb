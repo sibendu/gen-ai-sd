{
 "cells": [
  {
   "cell_type": "code",
   "execution_count": 9,
   "id": "60b43a2a-69b0-46ca-bb51-857fc4d55d3c",
   "metadata": {},
   "outputs": [],
   "source": [
    "import requests\n",
    "from IPython.display import display, Markdown\n",
    "\n",
    "base_url = 'https://dev.azure.com'\n",
    "org = 'PhilipsAgile'\n",
    "project = '1.0%20DC%20Digital'\n",
    "team = '1.2.2%20Bodacious%20Crew'\n",
    "\n",
    "token = 'c2liZW5kdS5kYXNAcGhpbGlwcy5jb206RWVVMWpiTlBBTXQ1dVl4aU9iOGFkeGIycERzOWRHdmkyd1JiWEJBVzVsS2ZTUmJWaU96bEpRUUo5OUJDQUNBQUFBQUdaVU5VQUFBU0FaRE8zVVNw'\n",
    "headers = {'Content-Type': 'application/json', 'Authorization': 'Basic '+token}\n",
    "NOT_FOUND = 'NOT_FOUND'\n",
    "NEW_LINE = '<br/>'\n",
    "SEPARATOR = '----------------------'\n",
    "\n",
    "sprint_no = '2451'\n",
    "iteration = '1.0 DC Digital\\\\'+sprint_no"
   ]
  },
  {
   "cell_type": "code",
   "execution_count": 2,
   "id": "df71d11c-03a2-4537-a102-412588739569",
   "metadata": {},
   "outputs": [],
   "source": [
    "def get_sprint_id(sprint_no):\n",
    "    url = f'{base_url}/{org}/{project}/{team}/_apis/work/teamsettings/iterations?api-version=7.2-preview.1'\n",
    "    \n",
    "    r = requests.get(url=url, headers=headers)\n",
    "    data = r.json()\n",
    "    #data['count']\n",
    "    sprints = data['value']\n",
    "    for s in sprints:\n",
    "        if s['name'] == sprint_no:\n",
    "            #print('Found:' + s['id'] + ' - ' + s['name'])\n",
    "            return s['id']\n",
    "\n",
    "    return NOT_FOUND   \n",
    "\n",
    "def get_sprint_workitems(sprint_id):\n",
    "    url = f'{base_url}/{org}/{project}/{team}/_apis/work/teamsettings/iterations/{sprint_id}/workitems?api-version=7.2-preview.1'\n",
    "\n",
    "    r = requests.get(url=url, headers=headers)\n",
    "    data = r.json()\n",
    "    #data['count']\n",
    "    workItems = data['workItemRelations']\n",
    "    return workItems\n",
    "\n",
    "def get_workitem_details(wi):\n",
    "    url = wi['target']['url']\n",
    "    r = requests.get(url=url, headers=headers)\n",
    "    return r.json()\n",
    "\n",
    "def get_workitem_details_by_url(wiUrl):\n",
    "    r = requests.get(url=wiUrl, headers=headers)\n",
    "    return r.json()"
   ]
  },
  {
   "cell_type": "code",
   "execution_count": 3,
   "id": "e9c858bd-a636-4691-a381-2a529b922113",
   "metadata": {},
   "outputs": [],
   "source": [
    "# api-endpoint\n",
    "url = f'{base_url}/{org}/{project}/_apis/wit/wiql?api-version=7.0'\n",
    "#print(url)\n",
    "\n",
    "wiql_query = f'SELECT [System.Id], [System.Title], [System.State], [System.WorkItemType] FROM WorkItems WHERE [System.IterationPath] = \\'{iteration}\\' AND [System.WorkItemType] IN (\\'User Story\\', \\'Bug\\')'\n",
    "#print(wiql_query)\n",
    "\n",
    "payload = {\n",
    "  \"query\": \"SELECT [System.Id], [System.Title], [System.State], [System.WorkItemType] FROM WorkItems WHERE [System.AreaPath] = '1.0 DC Digital\\\\DMEC\\\\D2B Clan\\\\D2B Platform Experience and Conversion Tribe\\\\D2B PEC Loyalty and Partnership Squad\\\\Bodacious Crew' AND [System.IterationPath] = '1.0 DC Digital\\\\2451' AND [System.WorkItemType] IN ('User Story', 'Bug')\"\n",
    "}\n",
    "#print(payload)\n",
    "\n",
    "r = requests.post(url=url, headers=headers, data=str(payload))"
   ]
  },
  {
   "cell_type": "code",
   "execution_count": 21,
   "id": "9a3707c7-b12e-4417-bec6-1ee9879ae2d3",
   "metadata": {},
   "outputs": [],
   "source": [
    "def extract_workitem_data(wiData):\n",
    "    Title = wiData['fields']['System.Title']\n",
    "    Type = wiData['fields']['System.WorkItemType']\n",
    "    State = wiData['fields']['System.State']\n",
    "    Reason = wiData['fields']['System.Reason']\n",
    "    AssignedTo = wiData['fields']['System.AssignedTo']\n",
    "    CreatedBy = wiData['fields']['System.CreatedBy']\n",
    "    CreatedDate = wiData['fields']['System.CreatedDate']\n",
    "    ChangedBy = wiData['fields']['System.ChangedBy']\n",
    "    ChangedDate = wiData['fields']['System.ChangedDate']\n",
    "    CommentCount = wiData['fields']['System.CommentCount']\n",
    "    Title = wiData['fields']['System.Title']\n",
    "    BoardColumn = wiData['fields']['System.BoardColumn']\n",
    "    BoardColumnDone = wiData['fields']['System.BoardColumnDone']\n",
    "\n",
    "    if 'Microsoft.VSTS.Scheduling.StoryPoints' in wiData['fields']:\n",
    "        StoryPoints = wiData['fields']['Microsoft.VSTS.Scheduling.StoryPoints']\n",
    "    else:\n",
    "        StoryPoints = ''\n",
    "\n",
    "    StateChangeDate = wiData['fields']['Microsoft.VSTS.Common.StateChangeDate']\n",
    "    \n",
    "    if 'Microsoft.VSTS.Common.ActivatedDate' in wiData['fields']:\n",
    "        ActivatedDate = wiData['fields']['Microsoft.VSTS.Common.ActivatedDate']\n",
    "    else:\n",
    "        ActivatedDate = ''\n",
    "\n",
    "    if 'Microsoft.VSTS.Common.ActivatedBy' in wiData['fields']:\n",
    "        ActivatedBy = wiData['fields']['Microsoft.VSTS.Common.ActivatedBy']\n",
    "    else:\n",
    "        ActivatedBy = {'uniqueName':''}\n",
    "        \n",
    "    ResolvedDate = wiData['fields']['Microsoft.VSTS.Common.ResolvedDate']\n",
    "    ResolvedBy = wiData['fields']['Microsoft.VSTS.Common.ResolvedBy']\n",
    "    ClosedDate = wiData['fields']['Microsoft.VSTS.Common.ClosedDate']\n",
    "    ClosedBy = wiData['fields']['Microsoft.VSTS.Common.ClosedBy']\n",
    "\n",
    "    if 'System.Tags' in wiData['fields']:\n",
    "        Tags = wiData['fields']['System.Tags']\n",
    "    else:\n",
    "        Tags = ''\n",
    "    Description = wiData['fields']['System.Description']\n",
    "\n",
    "    if 'Microsoft.VSTS.Common.AcceptanceCriteria' in wiData['fields']:\n",
    "        AcceptanceCriteria = wiData['fields']['Microsoft.VSTS.Common.AcceptanceCriteria']\n",
    "    else:\n",
    "        AcceptanceCriteria = ''\n",
    "        \n",
    "    content = ''\n",
    "    content = content + 'Type: '+ Type + NEW_LINE\n",
    "    content = content + 'Title: '+ Title + NEW_LINE\n",
    "    content = content + 'State: '+State + NEW_LINE\n",
    "    content =  content + 'CreatedBy: '+ CreatedBy['uniqueName'] + ';  CreatedDate: '+ CreatedDate + NEW_LINE\n",
    "    content =  content + 'AssignedTo: '+ AssignedTo['uniqueName'] + NEW_LINE\n",
    "    content =  content + 'ChangedBy: '+ ChangedBy['uniqueName'] + ';  ChangedDate: '+ ChangedDate + NEW_LINE\n",
    "    content =  content + 'ActivatedBy: '+ ActivatedBy['uniqueName'] + ';  ActivatedDate: '+ ActivatedDate + NEW_LINE\n",
    "    content =  content + 'ResolvedBy: '+ ResolvedBy['uniqueName'] + ';  ResolvedDate: '+ ResolvedDate + NEW_LINE\n",
    "    content =  content + 'ClosedBy: '+ ClosedBy['uniqueName'] + ';  ClosedDate: '+ ClosedDate + NEW_LINE\n",
    "    content =  content + 'StoryPoints: '+ str(StoryPoints) + NEW_LINE\n",
    "    content =  content + 'CommentCount: '+ str(CommentCount) + NEW_LINE\n",
    "    content =  content + 'Tags: '+ Tags + NEW_LINE\n",
    "    content =  content + 'Description: '+ Description + NEW_LINE \n",
    "    content =  content + 'AcceptanceCriteria: '+ AcceptanceCriteria + NEW_LINE \n",
    "    return content"
   ]
  },
  {
   "cell_type": "code",
   "execution_count": 22,
   "id": "bcc0344c-f6db-47ed-a9e0-8ce6e2695bb5",
   "metadata": {},
   "outputs": [],
   "source": [
    "workItems = r.json()['workItems']\n",
    "content = ''\n",
    "for wi in workItems:\n",
    "    wiData = get_workitem_details_by_url(wi['url'])\n",
    "    content =  content +  extract_workitem_data(wiData) + SEPARATOR \n",
    "    #print(wiData)    "
   ]
  },
  {
   "cell_type": "code",
   "execution_count": 24,
   "id": "86bacfa2-2124-427d-8783-376e623f4833",
   "metadata": {},
   "outputs": [
    {
     "name": "stdout",
     "output_type": "stream",
     "text": [
      "Written to file: 2451.txt\n"
     ]
    }
   ],
   "source": [
    "filename = sprint_no+'.txt'\n",
    "f = open(filename, 'a')\n",
    "f.write(content)\n",
    "f.close()\n",
    "print('Written to file: '+filename)"
   ]
  },
  {
   "cell_type": "code",
   "execution_count": 23,
   "id": "d6f85b44-6fbe-46c2-8603-794d9aeff3a4",
   "metadata": {},
   "outputs": [
    {
     "data": {
      "text/markdown": [
       "Type: User Story<br/>Title: New Order Overview - Super User reusable Component to be used in both Order Overview Compoenents(Spill)<br/>State: 5 Accepted<br/>CreatedBy: partner.Shreelakshmi.Venugopal@philips.com;  CreatedDate: 2024-10-22T13:21:18.753Z<br/>AssignedTo: partner.Sreekanth.M@philips.com<br/>ChangedBy: partner.Vipashchit.Kashyap@philips.com;  ChangedDate: 2025-02-10T07:12:58.32Z<br/>ActivatedBy: partner.Sreekanth.M@philips.com;  ActivatedDate: 2024-10-25T05:59:09.35Z<br/>ResolvedBy: partner.Chandrashekhar.Badgujar@philips.com;  ResolvedDate: 2025-01-03T08:57:36.923Z<br/>ClosedBy: partner.Shreelakshmi.Venugopal@philips.com;  ClosedDate: 2025-01-09T05:18:34.403Z<br/>StoryPoints: 2.0<br/>CommentCount: 3<br/>Tags: CP2025Q1; SIT Deployed<br/>Description: Super User reusable Component to be used in both Order Overview Components<br><br><br/>AcceptanceCriteria: <div>Super User reusable Component to be used in both Order Overview Compoenents<br> </div><br/>----------------------Type: Bug<br/>Title: ST || Vulnerable version of the library 'DOMPurify' found<br/>State: 5 Accepted<br/>CreatedBy: partner.Jayesh.Thakare@philips.com;  CreatedDate: 2024-10-24T10:42:30.783Z<br/>AssignedTo: partner.Jayesh.Thakare@philips.com<br/>ChangedBy: partner.Jayesh.Thakare@philips.com;  ChangedDate: 2024-12-24T05:13:23.907Z<br/>ActivatedBy: ;  ActivatedDate: <br/>ResolvedBy: partner.raju.sharma@philips.com;  ResolvedDate: 2024-12-19T13:28:13.97Z<br/>ClosedBy: partner.Jayesh.Thakare@philips.com;  ClosedDate: 2024-12-24T05:13:23.907Z<br/>StoryPoints: <br/>CommentCount: 1<br/>Tags: Mindtree_ST; Security; SFFT<br/>Description: <div>Vulnerable version of the library 'DOMPurify' found<br> </div><br/>AcceptanceCriteria: <br/>----------------------Type: User Story<br/>Title: SF Optimizer - Critical Permissions on Local Admin Profile - Analysis and documentation<br/>State: 5 Accepted<br/>CreatedBy: Aarti.Jagtap@philips.com;  CreatedDate: 2024-11-08T14:02:10.07Z<br/>AssignedTo: partner.Soundarya.G@philips.com<br/>ChangedBy: partner.Vipashchit.Kashyap@philips.com;  ChangedDate: 2025-02-10T07:11:54.117Z<br/>ActivatedBy: partner.Soundarya.G@philips.com;  ActivatedDate: 2024-12-18T05:38:23.237Z<br/>ResolvedBy: partner.Soundarya.G@philips.com;  ResolvedDate: 2024-12-19T12:30:17.653Z<br/>ClosedBy: partner.Shreelakshmi.Venugopal@philips.com;  ClosedDate: 2025-01-09T05:18:13.62Z<br/>StoryPoints: 1.0<br/>CommentCount: 1<br/>Tags: Analysis story; CP2025Q1<br/>Description: <div>What capabilities we offer to local admin </div><div>which access and level we need to achieve those capabilities </div><div>from above point compare what extra access we have added to local admin profile / PS </div><div>then we can decide what to reduce <br><br><br> </div><br/>AcceptanceCriteria: <div>TBD <br><br><div style=\"box-sizing:border-box;\">What capabilities we offer to local admin </div><div style=\"box-sizing:border-box;\">which access and level we need to achieve those capabilities </div><div style=\"box-sizing:border-box;\">from above point compare what extra access we have added to local admin profile / PS </div><div style=\"box-sizing:border-box;\">then we can decide what to reduce<br style=\"box-sizing:border-box;\"><br style=\"box-sizing:border-box;\"> </div><br> </div><br/>----------------------Type: User Story<br/>Title: Working E-E Test Data identification and finalization SIT and UAT<br/>State: 5 Accepted<br/>CreatedBy: Aarti.Jagtap@philips.com;  CreatedDate: 2024-12-02T08:06:47.99Z<br/>AssignedTo: partner.urmaliya.somdev@philips.com<br/>ChangedBy: partner.Vipashchit.Kashyap@philips.com;  ChangedDate: 2025-02-10T07:14:04.31Z<br/>ActivatedBy: ;  ActivatedDate: <br/>ResolvedBy: partner.urmaliya.somdev@philips.com;  ResolvedDate: 2025-01-02T05:45:53.607Z<br/>ClosedBy: partner.Shreelakshmi.Venugopal@philips.com;  ClosedDate: 2025-01-09T05:18:59.027Z<br/>StoryPoints: 0.0<br/>CommentCount: 2<br/>Tags: CP2025Q1; Test Only<br/>Description: <div><span>In SIT and UAT environments Identify a set of Partner Master Accounts and Delegate, Employee and ICM users respective where end to end functionality and learning life cycle works till November release.<br></span> </div><div><span><a href=\"#\" data-vss-mention=\"version:2.0,7b905768-6894-626f-8564-ed690045286c\">@Somdev, Urmaliya (Partner)</a>&nbsp;<a href=\"#\" data-vss-mention=\"version:2.0,d73e0f0e-4786-6282-af20-c9c0a2bd4a01\">@P, Mithra (Partner)</a> </span> </div><div><div><br> </div><span>Use below wiki link to document this <a href=\"https://dev.azure.com/PhilipsAgile/1.0%20DC%20Digital/_wiki/wikis/1.0-DC-Digital.wiki/21757/Identified-Test-Data\">https://dev.azure.com/PhilipsAgile/1.0%20DC%20Digital/_wiki/wikis/1.0-DC-Digital.wiki/21757/Identified-Test-Data</a></span><br> </div><br/>AcceptanceCriteria: <div><span>SIT test data [5 Partner Master Accounts are identified as per our testing requirements which will cover end-end journey]<br></span> </div><div><div>documented in wiki<br> </div><div>UAT test data [10 Partner Master Accounts are identified as per our testing requirements which will cover end-end journey]<br> </div><span>documented in wiki</span><br> </div><br/>----------------------Type: User Story<br/>Title: Note Hybris and User Registration - Partner : Code Details<br/>State: 5 Accepted<br/>CreatedBy: Aarti.Jagtap@philips.com;  CreatedDate: 2024-12-13T10:52:36.273Z<br/>AssignedTo: partner.Chandrashekhar.Badgujar@philips.com<br/>ChangedBy: partner.Vipashchit.Kashyap@philips.com;  ChangedDate: 2025-02-10T07:14:30.4Z<br/>ActivatedBy: partner.Chandrashekhar.Badgujar@philips.com;  ActivatedDate: 2024-12-17T15:37:24.807Z<br/>ResolvedBy: partner.Chandrashekhar.Badgujar@philips.com;  ResolvedDate: 2025-01-03T05:48:19.803Z<br/>ClosedBy: partner.Shreelakshmi.Venugopal@philips.com;  ClosedDate: 2025-01-09T05:19:28.01Z<br/>StoryPoints: 1.0<br/>CommentCount: 2<br/>Tags: CP2025Q1; Documentation<br/>Description: <div><a href=\"#\" data-vss-mention=\"version:2.0,b3d0b2a4-f02a-63bd-a86d-3bb119c92e60\">@Chandrashekhar Badgujar</a>&nbsp;please note all scenarios and code flow for Hybris and User registration API Partner - MyP4P custom code </div><div>Flow diagram will help better and an excel document </div><br/>AcceptanceCriteria: <div><span style=\"display:inline !important;\">noted all scenarios and code flow for Hybris and User registration API - MyP4P custom code</span><br> </div><div><span style=\"display:inline !important;\">flow diagram and excel document</span> </div><br/>----------------------Type: User Story<br/>Title: Improvements - My Philips Dashboard Content Section - part2<br/>State: 5 Accepted<br/>CreatedBy: partner.raju.sharma@philips.com;  CreatedDate: 2024-12-17T05:58:24.093Z<br/>AssignedTo: partner.raju.sharma@philips.com<br/>ChangedBy: partner.Vipashchit.Kashyap@philips.com;  ChangedDate: 2025-02-10T07:11:30.147Z<br/>ActivatedBy: partner.raju.sharma@philips.com;  ActivatedDate: 2024-12-17T06:07:03.587Z<br/>ResolvedBy: partner.raju.sharma@philips.com;  ResolvedDate: 2025-01-06T12:02:46.003Z<br/>ClosedBy: partner.Shreelakshmi.Venugopal@philips.com;  ClosedDate: 2025-01-09T04:52:24.517Z<br/>StoryPoints: 5.0<br/>CommentCount: 2<br/>Tags: CP2025Q1; SIT Deployed<br/>Description: <div><span data-rendered-mention=people><span class=mention-preview-person>@Chandrashekhar Badgujar</span></span> </div><div style=\"box-sizing:border-box;\"> </div><div style=\"box-sizing:border-box;\">1- Add a search box for country&nbsp; </div><div style=\"box-sizing:border-box;\">2- Select all the countries automatically if I select a particular market (if I manage more than a market) </div><div style=\"box-sizing:border-box;\"><br> </div><div style=\"box-sizing:border-box;\"><br style=\"box-sizing:border-box;\"> </div><div style=\"box-sizing:border-box;\"><img src=\"https://dev.azure.com/PhilipsAgile/bd5965c1-53bb-4698-915e-492450ee1ff0/_apis/wit/attachments/39cfda56-36db-4df2-af25-b87fa1c93b57?fileName=image.png\" alt=Image width=637 height=487 style=\"box-sizing:border-box;max-width:100%;align-self:center;width:637px;\"><br style=\"box-sizing:border-box;\"> </div><div style=\"box-sizing:border-box;\"><br style=\"box-sizing:border-box;\"> </div><div style=\"box-sizing:border-box;\"><br style=\"box-sizing:border-box;\"> </div><div style=\"box-sizing:border-box;\"><br style=\"box-sizing:border-box;\"> </div><div><br> </div><br/>AcceptanceCriteria: <div><div style=\"box-sizing:border-box;\">1- Add a search box for country&nbsp; </div><div style=\"box-sizing:border-box;\">2- Select all the countries automatically if I select a particular market (if I manage more than a market) </div><div style=\"box-sizing:border-box;\"><br style=\"box-sizing:border-box;\"> </div><div style=\"box-sizing:border-box;\"><br> </div><div style=\"box-sizing:border-box;\"><img src=\"https://dev.azure.com/PhilipsAgile/bd5965c1-53bb-4698-915e-492450ee1ff0/_apis/wit/attachments/39cfda56-36db-4df2-af25-b87fa1c93b57?fileName=image.png\" alt=Image width=637 height=487 style=\"box-sizing:border-box;max-width:100%;align-self:center;width:637px;\"><br style=\"box-sizing:border-box;\"> </div><div style=\"box-sizing:border-box;\"><br style=\"box-sizing:border-box;\"> </div><div style=\"box-sizing:border-box;\"><br style=\"box-sizing:border-box;\"> </div><div style=\"box-sizing:border-box;\"><br style=\"box-sizing:border-box;\"> </div><br><br> </div><div> </div><div><br> </div><div><br> </div><br/>----------------------Type: User Story<br/>Title: Sailpoint Application version Upgrade<br/>State: 5 Accepted<br/>CreatedBy: partner.raju.sharma@philips.com;  CreatedDate: 2024-12-17T10:26:48.24Z<br/>AssignedTo: partner.Sweta.Prajapati@philips.com<br/>ChangedBy: partner.Vipashchit.Kashyap@philips.com;  ChangedDate: 2025-02-10T07:15:08.58Z<br/>ActivatedBy: partner.Sweta.Prajapati@philips.com;  ActivatedDate: 2024-12-19T05:43:03.54Z<br/>ResolvedBy: partner.Sweta.Prajapati@philips.com;  ResolvedDate: 2024-12-20T02:36:00.16Z<br/>ClosedBy: partner.Shreelakshmi.Venugopal@philips.com;  ClosedDate: 2025-01-09T05:14:39.983Z<br/>StoryPoints: 1.0<br/>CommentCount: 1<br/>Tags: CP2025Q1; Test Only<br/>Description: <div>Sailpoint Application version Upgrade v8.4 P1 - QA environment - Require Support for UAT Testing &nbsp;<br> </div><br/>AcceptanceCriteria: <div>Sailpoint Application version Upgrade v8.4 P1 - QA environment - Require Support for UAT Testing &nbsp;<br> </div><br/>----------------------Type: User Story<br/>Title: KT from Sweta<br/>State: 5 Accepted<br/>CreatedBy: partner.raju.sharma@philips.com;  CreatedDate: 2024-12-17T10:49:38.167Z<br/>AssignedTo: partner.Sweta.Prajapati@philips.com<br/>ChangedBy: partner.Shreelakshmi.Venugopal@philips.com;  ChangedDate: 2025-01-09T05:24:45.27Z<br/>ActivatedBy: partner.Sweta.Prajapati@philips.com;  ActivatedDate: 2024-12-18T08:31:15.493Z<br/>ResolvedBy: partner.Sweta.Prajapati@philips.com;  ResolvedDate: 2024-12-19T08:16:27.323Z<br/>ClosedBy: partner.Shreelakshmi.Venugopal@philips.com;  ClosedDate: 2025-01-09T05:24:45.27Z<br/>StoryPoints: 1.0<br/>CommentCount: 1<br/>Tags: <br/>Description: <div>KT from Sweta<br> </div><br/>AcceptanceCriteria: <div>KT from Sweta<br><a href=\"#\" data-vss-mention=\"version:2.0,380d10d5-3d4b-61ca-81ac-ae522b56cfa2\">@Prajapati, Sweta (Partner)</a>&nbsp;please add the list of US/module which you are going to give KT. </div><br/>----------------------Type: User Story<br/>Title: Test Execution for sprints 2449&2451User stories<br/>State: 5 Accepted<br/>CreatedBy: partner.Mithra.P@philips.com;  CreatedDate: 2024-12-18T08:50:06.99Z<br/>AssignedTo: partner.Mithra.P@philips.com<br/>ChangedBy: partner.Vipashchit.Kashyap@philips.com;  ChangedDate: 2025-02-10T07:10:59.5Z<br/>ActivatedBy: partner.Mithra.P@philips.com;  ActivatedDate: 2024-12-20T06:57:05.36Z<br/>ResolvedBy: partner.Mithra.P@philips.com;  ResolvedDate: 2025-01-03T04:42:39.67Z<br/>ClosedBy: partner.Mithra.P@philips.com;  ClosedDate: 2025-01-03T04:58:51.93Z<br/>StoryPoints: 0.0<br/>CommentCount: 0<br/>Tags: CP2025Q1; Test Only<br/>Description: <div><div style=\"box-sizing:border-box;\">Below user story from 2249 and 2451 for Execution </div><div><br> </div><span style=\"font-family:&quot;Aptos Narrow&quot;, sans-serif;font-size:14.6667px;display:inline !important;\">1.My Group selection for first time login Users (Non-Partners)</span><br><span style=\"font-family:&quot;Aptos Narrow&quot;, sans-serif;font-size:14.6667px;display:inline !important;\">&nbsp;2.Improvements - My Philips Dashboard Content Section</span><br>3.New Order Overview - Super User reusable Component to be used in both Order Overview Compoenents(Spill) </div><div>4.Permissions segregation for HCP-ICP and Hybris users - Part 2<br> </div><div><br><br> </div><br/>AcceptanceCriteria: <table width=467 style=\"border-collapse:collapse;width:351pt;\">\n",
       "\n",
       " <colgroup><col width=357 style=\"width:268pt;\">\n",
       " <col width=110 style=\"width:83pt;\">\n",
       " </colgroup><tbody><tr height=41 style=\"box-sizing:border-box;\">\n",
       "  <td height=41 width=357 style=\"padding-top:1px;padding-right:1px;padding-left:1px;color:black;font-size:11pt;font-family:&quot;Aptos Narrow&quot;, sans-serif;vertical-align:bottom;border:none;text-align:center;border:0.5pt solid windowtext;background:white;border:1px solid rgb(212, 212, 212);width:268pt;box-sizing:border-box;\">User stories </td>\n",
       "  <td width=110 style=\"padding-top:1px;padding-right:1px;padding-left:1px;color:black;font-size:11pt;font-family:&quot;Aptos Narrow&quot;, sans-serif;vertical-align:bottom;border:none;text-align:center;border:0.5pt solid windowtext;background:white;border:1px solid rgb(212, 212, 212);border-left:none;width:83pt;box-sizing:border-box;\">Execution\n",
       "  Status&nbsp; </td>\n",
       " </tr>\n",
       " <tr height=21 style=\"box-sizing:border-box;\">\n",
       "  <td height=21 width=357 style=\"padding-top:1px;padding-right:1px;padding-left:1px;color:black;font-size:11pt;font-family:&quot;Aptos Narrow&quot;, sans-serif;vertical-align:bottom;border:none;border:0.5pt solid windowtext;background:white;border:1px solid rgb(212, 212, 212);border-top:none;width:268pt;box-sizing:border-box;\"><span style=\"box-sizing:border-box;\">Improvements\n",
       "  - My Philips Dashboard Content Section</span> </td>\n",
       "  <td width=110 style=\"padding-top:1px;padding-right:1px;padding-left:1px;color:black;font-size:11pt;font-family:&quot;Aptos Narrow&quot;, sans-serif;vertical-align:bottom;border:none;text-align:center;border:0.5pt solid windowtext;background:white;border:1px solid rgb(212, 212, 212);border-top:none;border-left:none;width:83pt;box-sizing:border-box;\">Dev </td>\n",
       " </tr>\n",
       " <tr height=20 style=\"box-sizing:border-box;\">\n",
       "  <td rowspan=2 height=40 width=357 style=\"padding-top:1px;padding-right:1px;padding-left:1px;color:black;font-size:11pt;font-family:&quot;Aptos Narrow&quot;, sans-serif;vertical-align:bottom;border:none;border:0.5pt solid windowtext;background:white;border:1px solid rgb(212, 212, 212);border-top:none;width:268pt;box-sizing:border-box;\"><span style=\"box-sizing:border-box;display:inline;\">&nbsp;My Group selection for first time login Users\n",
       "  (Non-Partners)</span> </td>\n",
       "  <td rowspan=2 width=110 style=\"padding-top:1px;padding-right:1px;padding-left:1px;color:black;font-size:11pt;font-family:&quot;Aptos Narrow&quot;, sans-serif;vertical-align:bottom;border:none;text-align:center;border:0.5pt solid windowtext;background:white;border:1px solid rgb(212, 212, 212);border-top:none;width:83pt;\">Completed </td>\n",
       " </tr>\n",
       " <tr height=20>\n",
       " </tr>\n",
       " <tr height=40>\n",
       "  <td height=40 width=357 style=\"padding-top:1px;padding-right:1px;padding-left:1px;color:black;font-size:11pt;font-family:&quot;Aptos Narrow&quot;, sans-serif;vertical-align:bottom;border:none;border:0.5pt solid windowtext;border:1px solid rgb(212, 212, 212);border-top:none;width:268pt;\">New Order Overview - Super User reusable Component to be used in\n",
       "  both Order Overview Compoenents </td>\n",
       "  <td width=110 style=\"padding-top:1px;padding-right:1px;padding-left:1px;color:black;font-size:11pt;font-family:&quot;Aptos Narrow&quot;, sans-serif;vertical-align:bottom;border:none;text-align:center;border:0.5pt solid windowtext;background:white;border:1px solid rgb(212, 212, 212);border-top:none;border-left:none;width:83pt;box-sizing:border-box;\">Dev </td>\n",
       " </tr>\n",
       " <tr height=20 style=\"\">\n",
       "  <td height=20 style=\"padding-top:1px;padding-right:1px;padding-left:1px;color:black;font-size:11pt;font-family:&quot;Aptos Narrow&quot;, sans-serif;vertical-align:bottom;border:none;border:0.5pt solid windowtext;border:1px solid rgb(212, 212, 212);border-top:none;\">Permissions\n",
       "  segregation for HCP-ICP and Hybris users -<span style=\"\">&nbsp;</span> </td>\n",
       "  <td style=\"padding-top:1px;padding-right:1px;padding-left:1px;color:black;font-size:11pt;font-family:&quot;Aptos Narrow&quot;, sans-serif;vertical-align:bottom;border:none;text-align:center;border:0.5pt solid windowtext;border:1px solid rgb(212, 212, 212);border-top:none;border-left:none;\">Completed </td>\n",
       " </tr></tbody></table><br><br/>----------------------"
      ],
      "text/plain": [
       "<IPython.core.display.Markdown object>"
      ]
     },
     "metadata": {},
     "output_type": "display_data"
    }
   ],
   "source": [
    "#content = extract_workitem_data(wiData)\n",
    "display(Markdown(content))"
   ]
  },
  {
   "cell_type": "code",
   "execution_count": null,
   "id": "be0392a3-7909-43f4-ae4b-e26e56295a20",
   "metadata": {},
   "outputs": [],
   "source": []
  },
  {
   "cell_type": "code",
   "execution_count": null,
   "id": "6e93a610-012f-4266-9034-1796805b7c0c",
   "metadata": {},
   "outputs": [],
   "source": []
  },
  {
   "cell_type": "code",
   "execution_count": null,
   "id": "1bc790c0-ea4f-4290-869c-46ad86a265d9",
   "metadata": {},
   "outputs": [],
   "source": []
  },
  {
   "cell_type": "code",
   "execution_count": 47,
   "id": "96c3e29f-5400-4501-bb73-780529f04cb6",
   "metadata": {},
   "outputs": [
    {
     "name": "stdout",
     "output_type": "stream",
     "text": [
      "bed81a8b-dfba-4ceb-837f-04fc12a02aff\n",
      "30\n"
     ]
    }
   ],
   "source": [
    "sprint_id = get_sprint_id(sprint_no)\n",
    "print(sprint_id)\n",
    "workItems = get_sprint_workitems(sprint_id)\n",
    "print(len(workItems))\n",
    "items = []\n",
    "for wi in workItems:\n",
    "    #print(wi['target']['url'])\n",
    "    w = get_workitem_details(wi)\n",
    "    #print(w)\n",
    "    if w['fields']['System.IterationPath'] == iteration:\n",
    "        items.append(w)\n",
    "\n",
    "print('Total iems = '+str(len(items)))\n",
    "for w in items:\n",
    "    print(str(w['id'])+ ' - ' + str(w['rev'])+ ' - ' + str(w['fields']['System.IterationPath'])+ ' - ' + str(w['fields']['System.State']))\n",
    "    print(w)"
   ]
  }
 ],
 "metadata": {
  "kernelspec": {
   "display_name": ".venv",
   "language": "python",
   "name": ".venv"
  },
  "language_info": {
   "codemirror_mode": {
    "name": "ipython",
    "version": 3
   },
   "file_extension": ".py",
   "mimetype": "text/x-python",
   "name": "python",
   "nbconvert_exporter": "python",
   "pygments_lexer": "ipython3",
   "version": "3.10.2"
  }
 },
 "nbformat": 4,
 "nbformat_minor": 5
}
