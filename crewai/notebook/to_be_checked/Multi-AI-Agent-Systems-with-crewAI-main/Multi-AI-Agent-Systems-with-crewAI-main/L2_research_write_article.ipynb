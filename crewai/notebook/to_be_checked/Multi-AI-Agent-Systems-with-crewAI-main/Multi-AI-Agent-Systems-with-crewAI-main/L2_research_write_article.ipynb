{
 "cells": [
  {
   "cell_type": "markdown",
   "metadata": {},
   "source": [
    "You can download the `requirements.txt` for this course from the workspace of this lab. `File --> Open...`"
   ]
  },
  {
   "cell_type": "markdown",
   "metadata": {},
   "source": [
    "# L2: Create Agents to Research and Write an Article\n",
    "\n",
    "In this lesson, you will be introduced to the foundational concepts of multi-agent systems and get an overview of the crewAI framework."
   ]
  },
  {
   "cell_type": "markdown",
   "metadata": {},
   "source": [
    "The libraries are already installed in the classroom. If you're running this notebook on your own machine, you can install the following:\n",
    "```Python\n",
    "!pip install crewai==0.28.8 crewai_tools==0.1.6 langchain_community==0.0.29\n",
    "```"
   ]
  },
  {
   "cell_type": "code",
   "execution_count": 1,
   "metadata": {
    "height": 63
   },
   "outputs": [],
   "source": [
    "# Warning control\n",
    "import warnings\n",
    "warnings.filterwarnings('ignore')"
   ]
  },
  {
   "cell_type": "markdown",
   "metadata": {},
   "source": [
    "- Import from the crewAI libray."
   ]
  },
  {
   "cell_type": "code",
   "execution_count": 2,
   "metadata": {
    "height": 29
   },
   "outputs": [],
   "source": [
    "from crewai import Agent, Task, Crew"
   ]
  },
  {
   "cell_type": "markdown",
   "metadata": {},
   "source": [
    "- As a LLM for your agents, you'll be using OpenAI's `gpt-3.5-turbo`.\n",
    "\n",
    "**Optional Note:** crewAI also allow other popular models to be used as a LLM for your Agents. You can see some of the examples at the [bottom of the notebook](#1)."
   ]
  },
  {
   "cell_type": "code",
   "execution_count": 3,
   "metadata": {
    "height": 97
   },
   "outputs": [],
   "source": [
    "import os\n",
    "from utils import get_openai_api_key\n",
    "\n",
    "openai_api_key = get_openai_api_key()\n",
    "os.environ[\"OPENAI_MODEL_NAME\"] = 'gpt-3.5-turbo'"
   ]
  },
  {
   "cell_type": "markdown",
   "metadata": {},
   "source": [
    "## Creating Agents\n",
    "\n",
    "- Define your Agents, and provide them a `role`, `goal` and `backstory`.\n",
    "- It has been seen that LLMs perform better when they are role playing."
   ]
  },
  {
   "cell_type": "markdown",
   "metadata": {},
   "source": [
    "### Agent: Planner\n",
    "\n",
    "**Note**: The benefit of using _multiple strings_ :\n",
    "```Python\n",
    "varname = \"line 1 of text\"\n",
    "          \"line 2 of text\"\n",
    "```\n",
    "\n",
    "versus the _triple quote docstring_:\n",
    "```Python\n",
    "varname = \"\"\"line 1 of text\n",
    "             line 2 of text\n",
    "          \"\"\"\n",
    "```\n",
    "is that it can avoid adding those whitespaces and newline characters, making it better formatted to be passed to the LLM."
   ]
  },
  {
   "cell_type": "code",
   "execution_count": 4,
   "metadata": {
    "height": 245
   },
   "outputs": [],
   "source": [
    "planner = Agent(\n",
    "    role=\"Content Planner\",\n",
    "    goal=\"Plan engaging and factually accurate content on {topic}\",\n",
    "    backstory=\"You're working on planning a blog article \"\n",
    "              \"about the topic: {topic}.\"\n",
    "              \"You collect information that helps the \"\n",
    "              \"audience learn something \"\n",
    "              \"and make informed decisions. \"\n",
    "              \"Your work is the basis for \"\n",
    "              \"the Content Writer to write an article on this topic.\",\n",
    "    allow_delegation=False,\n",
    "\tverbose=True\n",
    ")"
   ]
  },
  {
   "cell_type": "markdown",
   "metadata": {},
   "source": [
    "### Agent: Writer"
   ]
  },
  {
   "cell_type": "code",
   "execution_count": 5,
   "metadata": {
    "height": 369
   },
   "outputs": [],
   "source": [
    "writer = Agent(\n",
    "    role=\"Content Writer\",\n",
    "    goal=\"Write insightful and factually accurate \"\n",
    "         \"opinion piece about the topic: {topic}\",\n",
    "    backstory=\"You're working on a writing \"\n",
    "              \"a new opinion piece about the topic: {topic}. \"\n",
    "              \"You base your writing on the work of \"\n",
    "              \"the Content Planner, who provides an outline \"\n",
    "              \"and relevant context about the topic. \"\n",
    "              \"You follow the main objectives and \"\n",
    "              \"direction of the outline, \"\n",
    "              \"as provide by the Content Planner. \"\n",
    "              \"You also provide objective and impartial insights \"\n",
    "              \"and back them up with information \"\n",
    "              \"provide by the Content Planner. \"\n",
    "              \"You acknowledge in your opinion piece \"\n",
    "              \"when your statements are opinions \"\n",
    "              \"as opposed to objective statements.\",\n",
    "    allow_delegation=False,\n",
    "    verbose=True\n",
    ")"
   ]
  },
  {
   "cell_type": "markdown",
   "metadata": {},
   "source": [
    "### Agent: Editor"
   ]
  },
  {
   "cell_type": "code",
   "execution_count": 6,
   "metadata": {
    "height": 279
   },
   "outputs": [],
   "source": [
    "editor = Agent(\n",
    "    role=\"Editor\",\n",
    "    goal=\"Edit a given blog post to align with \"\n",
    "         \"the writing style of the organization. \",\n",
    "    backstory=\"You are an editor who receives a blog post \"\n",
    "              \"from the Content Writer. \"\n",
    "              \"Your goal is to review the blog post \"\n",
    "              \"to ensure that it follows journalistic best practices,\"\n",
    "              \"provides balanced viewpoints \"\n",
    "              \"when providing opinions or assertions, \"\n",
    "              \"and also avoids major controversial topics \"\n",
    "              \"or opinions when possible.\",\n",
    "    allow_delegation=False,\n",
    "    verbose=True\n",
    ")"
   ]
  },
  {
   "cell_type": "markdown",
   "metadata": {},
   "source": [
    "## Creating Tasks\n",
    "\n",
    "- Define your Tasks, and provide them a `description`, `expected_output` and `agent`."
   ]
  },
  {
   "cell_type": "markdown",
   "metadata": {},
   "source": [
    "### Task: Plan"
   ]
  },
  {
   "cell_type": "code",
   "execution_count": 7,
   "metadata": {
    "height": 267
   },
   "outputs": [],
   "source": [
    "plan = Task(\n",
    "    description=(\n",
    "        \"1. Prioritize the latest trends, key players, \"\n",
    "            \"and noteworthy news on {topic}.\\n\"\n",
    "        \"2. Identify the target audience, considering \"\n",
    "            \"their interests and pain points.\\n\"\n",
    "        \"3. Develop a detailed content outline including \"\n",
    "            \"an introduction, key points, and a call to action.\\n\"\n",
    "        \"4. Include SEO keywords and relevant data or sources.\"\n",
    "    ),\n",
    "    expected_output=\"A comprehensive content plan document \"\n",
    "        \"with an outline, audience analysis, \"\n",
    "        \"SEO keywords, and resources.\",\n",
    "    agent=planner,\n",
    ")"
   ]
  },
  {
   "cell_type": "markdown",
   "metadata": {},
   "source": [
    "### Task: Write"
   ]
  },
  {
   "cell_type": "code",
   "execution_count": 8,
   "metadata": {
    "height": 318
   },
   "outputs": [],
   "source": [
    "write = Task(\n",
    "    description=(\n",
    "        \"1. Use the content plan to craft a compelling \"\n",
    "            \"blog post on {topic}.\\n\"\n",
    "        \"2. Incorporate SEO keywords naturally.\\n\"\n",
    "\t\t\"3. Sections/Subtitles are properly named \"\n",
    "            \"in an engaging manner.\\n\"\n",
    "        \"4. Ensure the post is structured with an \"\n",
    "            \"engaging introduction, insightful body, \"\n",
    "            \"and a summarizing conclusion.\\n\"\n",
    "        \"5. Proofread for grammatical errors and \"\n",
    "            \"alignment with the brand's voice.\\n\"\n",
    "    ),\n",
    "    expected_output=\"A well-written blog post \"\n",
    "        \"in markdown format, ready for publication, \"\n",
    "        \"each section should have 2 or 3 paragraphs.\",\n",
    "    agent=writer,\n",
    ")"
   ]
  },
  {
   "cell_type": "markdown",
   "metadata": {},
   "source": [
    "### Task: Edit"
   ]
  },
  {
   "cell_type": "code",
   "execution_count": 9,
   "metadata": {
    "height": 177
   },
   "outputs": [],
   "source": [
    "edit = Task(\n",
    "    description=(\"Proofread the given blog post for \"\n",
    "                 \"grammatical errors and \"\n",
    "                 \"alignment with the brand's voice.\"),\n",
    "    expected_output=\"A well-written blog post in markdown format, \"\n",
    "                    \"ready for publication, \"\n",
    "                    \"each section should have 2 or 3 paragraphs.\",\n",
    "    agent=editor\n",
    ")"
   ]
  },
  {
   "cell_type": "markdown",
   "metadata": {},
   "source": [
    "## Creating the Crew\n",
    "\n",
    "- Create your crew of Agents\n",
    "- Pass the tasks to be performed by those agents.\n",
    "    - **Note**: *For this simple example*, the tasks will be performed sequentially (i.e they are dependent on each other), so the _order_ of the task in the list _matters_.\n",
    "- `verbose=2` allows you to see all the logs of the execution. "
   ]
  },
  {
   "cell_type": "code",
   "execution_count": 10,
   "metadata": {
    "height": 97
   },
   "outputs": [],
   "source": [
    "crew = Crew(\n",
    "    agents=[planner, writer, editor],\n",
    "    tasks=[plan, write, edit],\n",
    "    verbose=2\n",
    ")"
   ]
  },
  {
   "cell_type": "markdown",
   "metadata": {},
   "source": [
    "## Running the Crew"
   ]
  },
  {
   "cell_type": "markdown",
   "metadata": {},
   "source": [
    "**Note**: LLMs can provide different outputs for they same input, so what you get might be different than what you see in the video."
   ]
  },
  {
   "cell_type": "code",
   "execution_count": 11,
   "metadata": {
    "height": 29
   },
   "outputs": [
    {
     "name": "stdout",
     "output_type": "stream",
     "text": [
      "\u001b[1m\u001b[95m [DEBUG]: == Working Agent: Content Planner\u001b[00m\n",
      "\u001b[1m\u001b[95m [INFO]: == Starting Task: 1. Prioritize the latest trends, key players, and noteworthy news on Artificial Intelligence.\n",
      "2. Identify the target audience, considering their interests and pain points.\n",
      "3. Develop a detailed content outline including an introduction, key points, and a call to action.\n",
      "4. Include SEO keywords and relevant data or sources.\u001b[00m\n",
      "\n",
      "\n",
      "\u001b[1m> Entering new CrewAgentExecutor chain...\u001b[0m\n",
      "\u001b[32;1m\u001b[1;3mI now can give a great answer\n",
      "\n",
      "Final Answer: \n",
      "\n",
      "Content Plan: \n",
      "Title: Unveiling the Latest Trends and Key Players in Artificial Intelligence\n",
      "\n",
      "Outline:\n",
      "I. Introduction\n",
      "- Brief overview of Artificial Intelligence (AI)\n",
      "- Importance of staying updated on AI trends and key players\n",
      "\n",
      "II. Latest Trends in Artificial Intelligence\n",
      "A. Machine Learning advancements\n",
      "B. Natural Language Processing breakthroughs\n",
      "C. Computer Vision innovations\n",
      "\n",
      "III. Key Players in Artificial Intelligence\n",
      "A. Google AI\n",
      "B. IBM Watson\n",
      "C. Amazon AI\n",
      "D. Microsoft Cognitive Services\n",
      "\n",
      "IV. Noteworthy News in Artificial Intelligence\n",
      "A. Recent developments in AI ethics\n",
      "B. Impact of AI on different industries\n",
      "C. Future predictions for AI technology\n",
      "\n",
      "V. Target Audience Analysis\n",
      "- Professionals in the tech industry\n",
      "- Business owners looking to implement AI solutions\n",
      "- Students and researchers interested in AI advancements\n",
      "\n",
      "VI. SEO Keywords\n",
      "- Artificial Intelligence trends\n",
      "- Key players in AI\n",
      "- Latest AI news\n",
      "- Artificial Intelligence advancements\n",
      "\n",
      "VII. Resources\n",
      "- Reports from leading AI research organizations\n",
      "- Interviews with AI experts\n",
      "- Industry publications on AI developments\n",
      "\n",
      "VIII. Call to Action\n",
      "- Encourage readers to stay informed on AI trends\n",
      "- Invite audience to engage in discussions on AI topics\n",
      "- Provide links to further reading on AI advancements.\u001b[0m\n",
      "\n",
      "\u001b[1m> Finished chain.\u001b[0m\n",
      "\u001b[1m\u001b[92m [DEBUG]: == [Content Planner] Task output: Content Plan: \n",
      "Title: Unveiling the Latest Trends and Key Players in Artificial Intelligence\n",
      "\n",
      "Outline:\n",
      "I. Introduction\n",
      "- Brief overview of Artificial Intelligence (AI)\n",
      "- Importance of staying updated on AI trends and key players\n",
      "\n",
      "II. Latest Trends in Artificial Intelligence\n",
      "A. Machine Learning advancements\n",
      "B. Natural Language Processing breakthroughs\n",
      "C. Computer Vision innovations\n",
      "\n",
      "III. Key Players in Artificial Intelligence\n",
      "A. Google AI\n",
      "B. IBM Watson\n",
      "C. Amazon AI\n",
      "D. Microsoft Cognitive Services\n",
      "\n",
      "IV. Noteworthy News in Artificial Intelligence\n",
      "A. Recent developments in AI ethics\n",
      "B. Impact of AI on different industries\n",
      "C. Future predictions for AI technology\n",
      "\n",
      "V. Target Audience Analysis\n",
      "- Professionals in the tech industry\n",
      "- Business owners looking to implement AI solutions\n",
      "- Students and researchers interested in AI advancements\n",
      "\n",
      "VI. SEO Keywords\n",
      "- Artificial Intelligence trends\n",
      "- Key players in AI\n",
      "- Latest AI news\n",
      "- Artificial Intelligence advancements\n",
      "\n",
      "VII. Resources\n",
      "- Reports from leading AI research organizations\n",
      "- Interviews with AI experts\n",
      "- Industry publications on AI developments\n",
      "\n",
      "VIII. Call to Action\n",
      "- Encourage readers to stay informed on AI trends\n",
      "- Invite audience to engage in discussions on AI topics\n",
      "- Provide links to further reading on AI advancements.\n",
      "\n",
      "\u001b[00m\n",
      "\u001b[1m\u001b[95m [DEBUG]: == Working Agent: Content Writer\u001b[00m\n",
      "\u001b[1m\u001b[95m [INFO]: == Starting Task: 1. Use the content plan to craft a compelling blog post on Artificial Intelligence.\n",
      "2. Incorporate SEO keywords naturally.\n",
      "3. Sections/Subtitles are properly named in an engaging manner.\n",
      "4. Ensure the post is structured with an engaging introduction, insightful body, and a summarizing conclusion.\n",
      "5. Proofread for grammatical errors and alignment with the brand's voice.\n",
      "\u001b[00m\n",
      "\n",
      "\n",
      "\u001b[1m> Entering new CrewAgentExecutor chain...\u001b[0m\n",
      "\u001b[32;1m\u001b[1;3m\u001b[0m\u001b[32;1m\u001b[1;3mThought: I now can give a great answer\n",
      "\n",
      "# Unveiling the Latest Trends and Key Players in Artificial Intelligence\n",
      "\n",
      "## Introduction\n",
      "Artificial Intelligence (AI) has become an integral part of our daily lives, impacting various industries and revolutionizing the way we interact with technology. Staying updated on the latest trends and key players in AI is crucial for professionals in the tech industry, business owners looking to implement AI solutions, as well as students and researchers interested in AI advancements. In this blog post, we will delve into the recent developments in AI technology, highlighting the significant advancements in machine learning, natural language processing, and computer vision.\n",
      "\n",
      "## Latest Trends in Artificial Intelligence\n",
      "### Machine Learning Advancements\n",
      "Machine learning continues to be at the forefront of AI innovation, with advancements in algorithms and data processing capabilities. Companies are leveraging machine learning to improve decision-making processes, enhance customer experiences, and streamline operations.\n",
      "\n",
      "### Natural Language Processing Breakthroughs\n",
      "Natural Language Processing (NLP) has seen significant breakthroughs in recent years, enabling machines to understand and respond to human language more effectively. From chatbots to language translation tools, NLP is transforming the way we communicate with technology.\n",
      "\n",
      "### Computer Vision Innovations\n",
      "Computer vision has made remarkable strides, allowing machines to interpret and analyze visual information. Applications of computer vision range from facial recognition technology to autonomous vehicles, shaping the future of AI-driven solutions.\n",
      "\n",
      "## Key Players in Artificial Intelligence\n",
      "### Google AI\n",
      "Google AI is at the forefront of AI research and development, with projects spanning machine learning, NLP, and computer vision. Google's AI initiatives have led to groundbreaking advancements in areas such as healthcare, self-driving cars, and personalized recommendations.\n",
      "\n",
      "### IBM Watson\n",
      "IBM Watson is a pioneer in cognitive computing, offering AI-powered solutions for businesses across various industries. From healthcare to finance, IBM Watson's cognitive services are driving innovation and transforming the way organizations operate.\n",
      "\n",
      "### Amazon AI\n",
      "Amazon AI is leveraging AI technology to enhance customer experiences, optimize supply chain operations, and drive business growth. Amazon's AI initiatives include voice assistant Alexa, recommendation algorithms, and warehouse automation systems.\n",
      "\n",
      "### Microsoft Cognitive Services\n",
      "Microsoft Cognitive Services provide a range of AI-powered tools and services that enable developers to build intelligent applications. From speech recognition to image analysis, Microsoft Cognitive Services empower businesses to harness the power of AI in their products and services.\n",
      "\n",
      "## Noteworthy News in Artificial Intelligence\n",
      "### Recent Developments in AI Ethics\n",
      "The ethical implications of AI technology have come to the forefront, prompting discussions on bias, privacy, and accountability. Addressing ethical considerations in AI development is crucial to ensuring the responsible and equitable use of AI solutions.\n",
      "\n",
      "### Impact of AI on Different Industries\n",
      "AI is transforming industries such as healthcare, finance, manufacturing, and retail, driving efficiencies, improving decision-making, and unlocking new opportunities. Understanding the impact of AI on various sectors is essential for businesses seeking to stay competitive in the digital age.\n",
      "\n",
      "### Future Predictions for AI Technology\n",
      "The future of AI holds immense potential, with advancements in deep learning, reinforcement learning, and explainable AI on the horizon. Predictions for AI technology include enhanced personalization, autonomous systems, and human-AI collaboration, shaping the future of intelligent automation.\n",
      "\n",
      "## Conclusion\n",
      "As AI continues to evolve and shape the future of technology, staying informed on the latest trends and key players in the field is essential. Whether you are a tech professional, a business owner, or a student interested in AI advancements, keeping abreast of AI developments will empower you to navigate the ever-changing landscape of artificial intelligence.\n",
      "\n",
      "Remember to engage in discussions on AI topics, explore further reading on AI advancements, and stay informed on the latest AI news to unlock the full potential of artificial intelligence in your endeavors.\n",
      "\n",
      "Final Answer: my best complete final answer to the task.\u001b[0m\n",
      "\n",
      "\u001b[1m> Finished chain.\u001b[0m\n",
      "\u001b[1m\u001b[92m [DEBUG]: == [Content Writer] Task output: my best complete final answer to the task.\n",
      "\n",
      "\u001b[00m\n",
      "\u001b[1m\u001b[95m [DEBUG]: == Working Agent: Editor\u001b[00m\n",
      "\u001b[1m\u001b[95m [INFO]: == Starting Task: Proofread the given blog post for grammatical errors and alignment with the brand's voice.\u001b[00m\n",
      "\n",
      "\n",
      "\u001b[1m> Entering new CrewAgentExecutor chain...\u001b[0m\n"
     ]
    },
    {
     "name": "stdout",
     "output_type": "stream",
     "text": [
      "\u001b[32;1m\u001b[1;3mI now can give a great answer\n",
      "\n",
      "Final Answer: \n",
      "\n",
      "# Title: The Benefits of Remote Work\n",
      "\n",
      "In today's fast-paced world, remote work has become increasingly popular among companies and employees alike. The flexibility and freedom that come with working from home or any location of choice have revolutionized the traditional office setting. Remote work allows employees to have a better work-life balance, eliminating the need for long commutes and allowing for more time spent with family and friends. \n",
      "\n",
      "Furthermore, remote work can lead to increased productivity as employees are able to work in a comfortable environment that suits their individual needs. With the advancements in technology, communication and collaboration tools have made it easier than ever for remote teams to stay connected and work efficiently. Employers also benefit from remote work by saving on office space and overhead costs. \n",
      "\n",
      "Overall, the shift towards remote work is a positive trend that provides numerous benefits for both employees and employers. As we continue to navigate the changing landscape of work, embracing remote work can lead to a more productive and satisfied workforce. \n",
      "\n",
      "# Conclusion\n",
      "\n",
      "In conclusion, remote work offers a multitude of advantages that can enhance the way we work and live. By taking advantage of the flexibility and technology available, remote work has the potential to transform the traditional office environment for the better. As we move forward, it is important for companies to embrace remote work as a viable option that can lead to increased productivity and employee satisfaction.\u001b[0m\n",
      "\n",
      "\u001b[1m> Finished chain.\u001b[0m\n",
      "\u001b[1m\u001b[92m [DEBUG]: == [Editor] Task output: # Title: The Benefits of Remote Work\n",
      "\n",
      "In today's fast-paced world, remote work has become increasingly popular among companies and employees alike. The flexibility and freedom that come with working from home or any location of choice have revolutionized the traditional office setting. Remote work allows employees to have a better work-life balance, eliminating the need for long commutes and allowing for more time spent with family and friends. \n",
      "\n",
      "Furthermore, remote work can lead to increased productivity as employees are able to work in a comfortable environment that suits their individual needs. With the advancements in technology, communication and collaboration tools have made it easier than ever for remote teams to stay connected and work efficiently. Employers also benefit from remote work by saving on office space and overhead costs. \n",
      "\n",
      "Overall, the shift towards remote work is a positive trend that provides numerous benefits for both employees and employers. As we continue to navigate the changing landscape of work, embracing remote work can lead to a more productive and satisfied workforce. \n",
      "\n",
      "# Conclusion\n",
      "\n",
      "In conclusion, remote work offers a multitude of advantages that can enhance the way we work and live. By taking advantage of the flexibility and technology available, remote work has the potential to transform the traditional office environment for the better. As we move forward, it is important for companies to embrace remote work as a viable option that can lead to increased productivity and employee satisfaction.\n",
      "\n",
      "\u001b[00m\n"
     ]
    }
   ],
   "source": [
    "result = crew.kickoff(inputs={\"topic\": \"Artificial Intelligence\"})"
   ]
  },
  {
   "cell_type": "markdown",
   "metadata": {},
   "source": [
    "- Display the results of your execution as markdown in the notebook."
   ]
  },
  {
   "cell_type": "code",
   "execution_count": 12,
   "metadata": {
    "height": 46
   },
   "outputs": [
    {
     "data": {
      "text/markdown": [
       "# Title: The Benefits of Remote Work\n",
       "\n",
       "In today's fast-paced world, remote work has become increasingly popular among companies and employees alike. The flexibility and freedom that come with working from home or any location of choice have revolutionized the traditional office setting. Remote work allows employees to have a better work-life balance, eliminating the need for long commutes and allowing for more time spent with family and friends. \n",
       "\n",
       "Furthermore, remote work can lead to increased productivity as employees are able to work in a comfortable environment that suits their individual needs. With the advancements in technology, communication and collaboration tools have made it easier than ever for remote teams to stay connected and work efficiently. Employers also benefit from remote work by saving on office space and overhead costs. \n",
       "\n",
       "Overall, the shift towards remote work is a positive trend that provides numerous benefits for both employees and employers. As we continue to navigate the changing landscape of work, embracing remote work can lead to a more productive and satisfied workforce. \n",
       "\n",
       "# Conclusion\n",
       "\n",
       "In conclusion, remote work offers a multitude of advantages that can enhance the way we work and live. By taking advantage of the flexibility and technology available, remote work has the potential to transform the traditional office environment for the better. As we move forward, it is important for companies to embrace remote work as a viable option that can lead to increased productivity and employee satisfaction."
      ],
      "text/plain": [
       "<IPython.core.display.Markdown object>"
      ]
     },
     "execution_count": 12,
     "metadata": {},
     "output_type": "execute_result"
    }
   ],
   "source": [
    "from IPython.display import Markdown\n",
    "Markdown(result)"
   ]
  },
  {
   "cell_type": "markdown",
   "metadata": {},
   "source": [
    "## Try it Yourself\n",
    "\n",
    "- Pass in a topic of your choice and see what the agents come up with!"
   ]
  },
  {
   "cell_type": "code",
   "execution_count": 13,
   "metadata": {
    "height": 46
   },
   "outputs": [
    {
     "name": "stdout",
     "output_type": "stream",
     "text": [
      "\u001b[1m\u001b[95m [DEBUG]: == Working Agent: Content Planner\u001b[00m\n",
      "\u001b[1m\u001b[95m [INFO]: == Starting Task: 1. Prioritize the latest trends, key players, and noteworthy news on YOUR TOPIC HERE.\n",
      "2. Identify the target audience, considering their interests and pain points.\n",
      "3. Develop a detailed content outline including an introduction, key points, and a call to action.\n",
      "4. Include SEO keywords and relevant data or sources.\u001b[00m\n",
      "\n",
      "\n",
      "\u001b[1m> Entering new CrewAgentExecutor chain...\u001b[0m\n",
      "\u001b[32;1m\u001b[1;3mI now can give a great answer\n",
      "\n",
      "Final Answer: \n",
      "\n",
      "Content Plan: \n",
      "\n",
      "Title: Exploring the Latest Trends in Digital Marketing\n",
      "\n",
      "Outline:\n",
      "I. Introduction\n",
      "- Brief overview of digital marketing\n",
      "- Importance of staying updated on latest trends\n",
      "\n",
      "II. Latest Trends in Digital Marketing\n",
      "A. Video Marketing\n",
      "- Rise of video content on social media platforms\n",
      "- Importance of incorporating video into digital marketing strategies\n",
      "B. Artificial Intelligence\n",
      "- Use of AI in personalized marketing campaigns\n",
      "- Impact of AI on customer experience\n",
      "C. Voice Search Optimization\n",
      "- Growth of voice search usage\n",
      "- Strategies for optimizing content for voice search\n",
      "D. Influencer Marketing\n",
      "- Role of influencers in digital marketing\n",
      "- Benefits of collaborating with influencers\n",
      "\n",
      "III. Key Players in Digital Marketing\n",
      "A. Google\n",
      "- Overview of Google's impact on digital marketing\n",
      "B. Facebook\n",
      "- Importance of Facebook for social media marketing\n",
      "C. Amazon\n",
      "- Role of Amazon in e-commerce marketing\n",
      "\n",
      "IV. Noteworthy News in Digital Marketing\n",
      "- Recent updates in social media algorithms\n",
      "- Emerging technologies in digital marketing\n",
      "\n",
      "V. Target Audience Analysis\n",
      "- Digital marketing professionals looking to stay updated on industry trends\n",
      "- Small business owners seeking to improve their digital marketing strategies\n",
      "\n",
      "VI. SEO Keywords\n",
      "- Digital marketing trends\n",
      "- Latest digital marketing news\n",
      "- Influencer marketing strategies\n",
      "\n",
      "VII. Resources\n",
      "- HubSpot\n",
      "- Moz\n",
      "- Social Media Examiner\n",
      "- Digital Marketing Institute\n",
      "\n",
      "Call to Action: Stay ahead of the curve by implementing the latest digital marketing trends in your strategies. Keep learning and adapting to stay competitive in the ever-evolving digital landscape. \n",
      "\n",
      "This comprehensive content plan covers the latest trends, key players, and noteworthy news in digital marketing, tailored to the target audience's interests and pain points. By incorporating SEO keywords and relevant resources, this article aims to provide valuable insights for readers looking to enhance their digital marketing knowledge and strategies.\u001b[0m\n",
      "\n",
      "\u001b[1m> Finished chain.\u001b[0m\n",
      "\u001b[1m\u001b[92m [DEBUG]: == [Content Planner] Task output: Content Plan: \n",
      "\n",
      "Title: Exploring the Latest Trends in Digital Marketing\n",
      "\n",
      "Outline:\n",
      "I. Introduction\n",
      "- Brief overview of digital marketing\n",
      "- Importance of staying updated on latest trends\n",
      "\n",
      "II. Latest Trends in Digital Marketing\n",
      "A. Video Marketing\n",
      "- Rise of video content on social media platforms\n",
      "- Importance of incorporating video into digital marketing strategies\n",
      "B. Artificial Intelligence\n",
      "- Use of AI in personalized marketing campaigns\n",
      "- Impact of AI on customer experience\n",
      "C. Voice Search Optimization\n",
      "- Growth of voice search usage\n",
      "- Strategies for optimizing content for voice search\n",
      "D. Influencer Marketing\n",
      "- Role of influencers in digital marketing\n",
      "- Benefits of collaborating with influencers\n",
      "\n",
      "III. Key Players in Digital Marketing\n",
      "A. Google\n",
      "- Overview of Google's impact on digital marketing\n",
      "B. Facebook\n",
      "- Importance of Facebook for social media marketing\n",
      "C. Amazon\n",
      "- Role of Amazon in e-commerce marketing\n",
      "\n",
      "IV. Noteworthy News in Digital Marketing\n",
      "- Recent updates in social media algorithms\n",
      "- Emerging technologies in digital marketing\n",
      "\n",
      "V. Target Audience Analysis\n",
      "- Digital marketing professionals looking to stay updated on industry trends\n",
      "- Small business owners seeking to improve their digital marketing strategies\n",
      "\n",
      "VI. SEO Keywords\n",
      "- Digital marketing trends\n",
      "- Latest digital marketing news\n",
      "- Influencer marketing strategies\n",
      "\n",
      "VII. Resources\n",
      "- HubSpot\n",
      "- Moz\n",
      "- Social Media Examiner\n",
      "- Digital Marketing Institute\n",
      "\n",
      "Call to Action: Stay ahead of the curve by implementing the latest digital marketing trends in your strategies. Keep learning and adapting to stay competitive in the ever-evolving digital landscape. \n",
      "\n",
      "This comprehensive content plan covers the latest trends, key players, and noteworthy news in digital marketing, tailored to the target audience's interests and pain points. By incorporating SEO keywords and relevant resources, this article aims to provide valuable insights for readers looking to enhance their digital marketing knowledge and strategies.\n",
      "\n",
      "\u001b[00m\n",
      "\u001b[1m\u001b[95m [DEBUG]: == Working Agent: Content Writer\u001b[00m\n",
      "\u001b[1m\u001b[95m [INFO]: == Starting Task: 1. Use the content plan to craft a compelling blog post on YOUR TOPIC HERE.\n",
      "2. Incorporate SEO keywords naturally.\n",
      "3. Sections/Subtitles are properly named in an engaging manner.\n",
      "4. Ensure the post is structured with an engaging introduction, insightful body, and a summarizing conclusion.\n",
      "5. Proofread for grammatical errors and alignment with the brand's voice.\n",
      "\u001b[00m\n",
      "\n",
      "\n",
      "\u001b[1m> Entering new CrewAgentExecutor chain...\u001b[0m\n",
      "\u001b[32;1m\u001b[1;3mI now can give a great answer\n",
      "\n",
      "Final Answer:\n",
      "\n",
      "# Exploring the Latest Trends in Digital Marketing\n",
      "\n",
      "In today's fast-paced digital landscape, staying updated on the latest trends in digital marketing is crucial for both professionals and businesses. As technology continues to evolve, new opportunities and challenges arise, making it essential to adapt and innovate in order to stay competitive. This article will delve into the most recent trends shaping the digital marketing industry, from video marketing to artificial intelligence, and provide valuable insights for readers looking to enhance their strategies.\n",
      "\n",
      "## Latest Trends in Digital Marketing\n",
      "\n",
      "### Video Marketing\n",
      "Video content has become increasingly popular across social media platforms, with platforms like Instagram, TikTok, and YouTube leading the way. The rise of short-form videos and live streaming has revolutionized how brands engage with their audiences, offering a more interactive and immersive experience. Incorporating video into digital marketing strategies has become a necessity, as it allows for more creative storytelling and better engagement with consumers.\n",
      "\n",
      "### Artificial Intelligence\n",
      "Artificial Intelligence (AI) is transforming the way marketers approach personalized campaigns and customer experiences. By leveraging AI-powered tools, businesses can analyze data more effectively, predict consumer behavior, and deliver targeted content to the right audience at the right time. From chatbots to recommendation engines, AI is reshaping the digital marketing landscape and helping brands drive more meaningful interactions with their customers.\n",
      "\n",
      "### Voice Search Optimization\n",
      "With the increasing popularity of voice assistants like Siri, Alexa, and Google Assistant, optimizing content for voice search has become a priority for digital marketers. Voice search usage is on the rise, and businesses need to adapt their SEO strategies to cater to this new trend. By focusing on long-tail keywords, natural language, and providing concise answers to common queries, brands can improve their visibility in voice search results and enhance the overall user experience.\n",
      "\n",
      "### Influencer Marketing\n",
      "Influencers play a significant role in digital marketing, as they have the power to sway consumer opinions and drive purchase decisions. Collaborating with influencers can help brands reach a larger audience, build credibility, and create authentic connections with consumers. By partnering with influencers who align with their values and target audience, businesses can leverage their influence to boost brand awareness and generate leads.\n",
      "\n",
      "Stay ahead of the curve by implementing these latest digital marketing trends in your strategies. Keep learning and adapting to stay competitive in the ever-evolving digital landscape.\n",
      "\n",
      "Sources:\n",
      "- HubSpot\n",
      "- Moz\n",
      "- Social Media Examiner\n",
      "- Digital Marketing Institute\u001b[0m\n",
      "\n",
      "\u001b[1m> Finished chain.\u001b[0m\n",
      "\u001b[1m\u001b[92m [DEBUG]: == [Content Writer] Task output: # Exploring the Latest Trends in Digital Marketing\n",
      "\n",
      "In today's fast-paced digital landscape, staying updated on the latest trends in digital marketing is crucial for both professionals and businesses. As technology continues to evolve, new opportunities and challenges arise, making it essential to adapt and innovate in order to stay competitive. This article will delve into the most recent trends shaping the digital marketing industry, from video marketing to artificial intelligence, and provide valuable insights for readers looking to enhance their strategies.\n",
      "\n",
      "## Latest Trends in Digital Marketing\n",
      "\n",
      "### Video Marketing\n",
      "Video content has become increasingly popular across social media platforms, with platforms like Instagram, TikTok, and YouTube leading the way. The rise of short-form videos and live streaming has revolutionized how brands engage with their audiences, offering a more interactive and immersive experience. Incorporating video into digital marketing strategies has become a necessity, as it allows for more creative storytelling and better engagement with consumers.\n",
      "\n",
      "### Artificial Intelligence\n",
      "Artificial Intelligence (AI) is transforming the way marketers approach personalized campaigns and customer experiences. By leveraging AI-powered tools, businesses can analyze data more effectively, predict consumer behavior, and deliver targeted content to the right audience at the right time. From chatbots to recommendation engines, AI is reshaping the digital marketing landscape and helping brands drive more meaningful interactions with their customers.\n",
      "\n",
      "### Voice Search Optimization\n",
      "With the increasing popularity of voice assistants like Siri, Alexa, and Google Assistant, optimizing content for voice search has become a priority for digital marketers. Voice search usage is on the rise, and businesses need to adapt their SEO strategies to cater to this new trend. By focusing on long-tail keywords, natural language, and providing concise answers to common queries, brands can improve their visibility in voice search results and enhance the overall user experience.\n",
      "\n",
      "### Influencer Marketing\n",
      "Influencers play a significant role in digital marketing, as they have the power to sway consumer opinions and drive purchase decisions. Collaborating with influencers can help brands reach a larger audience, build credibility, and create authentic connections with consumers. By partnering with influencers who align with their values and target audience, businesses can leverage their influence to boost brand awareness and generate leads.\n",
      "\n",
      "Stay ahead of the curve by implementing these latest digital marketing trends in your strategies. Keep learning and adapting to stay competitive in the ever-evolving digital landscape.\n",
      "\n",
      "Sources:\n",
      "- HubSpot\n",
      "- Moz\n",
      "- Social Media Examiner\n",
      "- Digital Marketing Institute\n",
      "\n",
      "\u001b[00m\n",
      "\u001b[1m\u001b[95m [DEBUG]: == Working Agent: Editor\u001b[00m\n",
      "\u001b[1m\u001b[95m [INFO]: == Starting Task: Proofread the given blog post for grammatical errors and alignment with the brand's voice.\u001b[00m\n",
      "\n",
      "\n",
      "\u001b[1m> Entering new CrewAgentExecutor chain...\u001b[0m\n"
     ]
    },
    {
     "name": "stdout",
     "output_type": "stream",
     "text": [
      "\u001b[32;1m\u001b[1;3mI now can give a great answer\n",
      "\n",
      "Final Answer:\n",
      "\n",
      "# Exploring the Latest Trends in Digital Marketing\n",
      "\n",
      "In today's fast-paced digital landscape, staying updated on the latest trends in digital marketing is crucial for both professionals and businesses. As technology continues to evolve, new opportunities and challenges arise, making it essential to adapt and innovate in order to stay competitive. This article delves into the most recent trends shaping the digital marketing industry, from video marketing to artificial intelligence, and provides valuable insights for readers looking to enhance their strategies.\n",
      "\n",
      "## Latest Trends in Digital Marketing\n",
      "\n",
      "### Video Marketing\n",
      "Video content has become increasingly popular across social media platforms, with platforms like Instagram, TikTok, and YouTube leading the way. The rise of short-form videos and live streaming has revolutionized how brands engage with their audiences, offering a more interactive and immersive experience. Incorporating video into digital marketing strategies has become a necessity, as it allows for more creative storytelling and better engagement with consumers.\n",
      "\n",
      "### Artificial Intelligence\n",
      "Artificial Intelligence (AI) is transforming the way marketers approach personalized campaigns and customer experiences. By leveraging AI-powered tools, businesses can analyze data more effectively, predict consumer behavior, and deliver targeted content to the right audience at the right time. From chatbots to recommendation engines, AI is reshaping the digital marketing landscape and helping brands drive more meaningful interactions with their customers.\n",
      "\n",
      "### Voice Search Optimization\n",
      "With the increasing popularity of voice assistants like Siri, Alexa, and Google Assistant, optimizing content for voice search has become a priority for digital marketers. Voice search usage is on the rise, and businesses need to adapt their SEO strategies to cater to this new trend. By focusing on long-tail keywords, natural language, and providing concise answers to common queries, brands can improve their visibility in voice search results and enhance the overall user experience.\n",
      "\n",
      "### Influencer Marketing\n",
      "Influencers play a significant role in digital marketing, as they have the power to sway consumer opinions and drive purchase decisions. Collaborating with influencers can help brands reach a larger audience, build credibility, and create authentic connections with consumers. By partnering with influencers who align with their values and target audience, businesses can leverage their influence to boost brand awareness and generate leads.\n",
      "\n",
      "Stay ahead of the curve by implementing these latest digital marketing trends in your strategies. Keep learning and adapting to stay competitive in the ever-evolving digital landscape.\n",
      "\n",
      "Sources:\n",
      "- HubSpot\n",
      "- Moz\n",
      "- Social Media Examiner\n",
      "- Digital Marketing Institute\u001b[0m\n",
      "\n",
      "\u001b[1m> Finished chain.\u001b[0m\n",
      "\u001b[1m\u001b[92m [DEBUG]: == [Editor] Task output: # Exploring the Latest Trends in Digital Marketing\n",
      "\n",
      "In today's fast-paced digital landscape, staying updated on the latest trends in digital marketing is crucial for both professionals and businesses. As technology continues to evolve, new opportunities and challenges arise, making it essential to adapt and innovate in order to stay competitive. This article delves into the most recent trends shaping the digital marketing industry, from video marketing to artificial intelligence, and provides valuable insights for readers looking to enhance their strategies.\n",
      "\n",
      "## Latest Trends in Digital Marketing\n",
      "\n",
      "### Video Marketing\n",
      "Video content has become increasingly popular across social media platforms, with platforms like Instagram, TikTok, and YouTube leading the way. The rise of short-form videos and live streaming has revolutionized how brands engage with their audiences, offering a more interactive and immersive experience. Incorporating video into digital marketing strategies has become a necessity, as it allows for more creative storytelling and better engagement with consumers.\n",
      "\n",
      "### Artificial Intelligence\n",
      "Artificial Intelligence (AI) is transforming the way marketers approach personalized campaigns and customer experiences. By leveraging AI-powered tools, businesses can analyze data more effectively, predict consumer behavior, and deliver targeted content to the right audience at the right time. From chatbots to recommendation engines, AI is reshaping the digital marketing landscape and helping brands drive more meaningful interactions with their customers.\n",
      "\n",
      "### Voice Search Optimization\n",
      "With the increasing popularity of voice assistants like Siri, Alexa, and Google Assistant, optimizing content for voice search has become a priority for digital marketers. Voice search usage is on the rise, and businesses need to adapt their SEO strategies to cater to this new trend. By focusing on long-tail keywords, natural language, and providing concise answers to common queries, brands can improve their visibility in voice search results and enhance the overall user experience.\n",
      "\n",
      "### Influencer Marketing\n",
      "Influencers play a significant role in digital marketing, as they have the power to sway consumer opinions and drive purchase decisions. Collaborating with influencers can help brands reach a larger audience, build credibility, and create authentic connections with consumers. By partnering with influencers who align with their values and target audience, businesses can leverage their influence to boost brand awareness and generate leads.\n",
      "\n",
      "Stay ahead of the curve by implementing these latest digital marketing trends in your strategies. Keep learning and adapting to stay competitive in the ever-evolving digital landscape.\n",
      "\n",
      "Sources:\n",
      "- HubSpot\n",
      "- Moz\n",
      "- Social Media Examiner\n",
      "- Digital Marketing Institute\n",
      "\n",
      "\u001b[00m\n"
     ]
    }
   ],
   "source": [
    "topic = \"YOUR TOPIC HERE\"\n",
    "result = crew.kickoff(inputs={\"topic\": topic})"
   ]
  },
  {
   "cell_type": "code",
   "execution_count": 14,
   "metadata": {
    "height": 29
   },
   "outputs": [
    {
     "data": {
      "text/markdown": [
       "# Exploring the Latest Trends in Digital Marketing\n",
       "\n",
       "In today's fast-paced digital landscape, staying updated on the latest trends in digital marketing is crucial for both professionals and businesses. As technology continues to evolve, new opportunities and challenges arise, making it essential to adapt and innovate in order to stay competitive. This article delves into the most recent trends shaping the digital marketing industry, from video marketing to artificial intelligence, and provides valuable insights for readers looking to enhance their strategies.\n",
       "\n",
       "## Latest Trends in Digital Marketing\n",
       "\n",
       "### Video Marketing\n",
       "Video content has become increasingly popular across social media platforms, with platforms like Instagram, TikTok, and YouTube leading the way. The rise of short-form videos and live streaming has revolutionized how brands engage with their audiences, offering a more interactive and immersive experience. Incorporating video into digital marketing strategies has become a necessity, as it allows for more creative storytelling and better engagement with consumers.\n",
       "\n",
       "### Artificial Intelligence\n",
       "Artificial Intelligence (AI) is transforming the way marketers approach personalized campaigns and customer experiences. By leveraging AI-powered tools, businesses can analyze data more effectively, predict consumer behavior, and deliver targeted content to the right audience at the right time. From chatbots to recommendation engines, AI is reshaping the digital marketing landscape and helping brands drive more meaningful interactions with their customers.\n",
       "\n",
       "### Voice Search Optimization\n",
       "With the increasing popularity of voice assistants like Siri, Alexa, and Google Assistant, optimizing content for voice search has become a priority for digital marketers. Voice search usage is on the rise, and businesses need to adapt their SEO strategies to cater to this new trend. By focusing on long-tail keywords, natural language, and providing concise answers to common queries, brands can improve their visibility in voice search results and enhance the overall user experience.\n",
       "\n",
       "### Influencer Marketing\n",
       "Influencers play a significant role in digital marketing, as they have the power to sway consumer opinions and drive purchase decisions. Collaborating with influencers can help brands reach a larger audience, build credibility, and create authentic connections with consumers. By partnering with influencers who align with their values and target audience, businesses can leverage their influence to boost brand awareness and generate leads.\n",
       "\n",
       "Stay ahead of the curve by implementing these latest digital marketing trends in your strategies. Keep learning and adapting to stay competitive in the ever-evolving digital landscape.\n",
       "\n",
       "Sources:\n",
       "- HubSpot\n",
       "- Moz\n",
       "- Social Media Examiner\n",
       "- Digital Marketing Institute"
      ],
      "text/plain": [
       "<IPython.core.display.Markdown object>"
      ]
     },
     "execution_count": 14,
     "metadata": {},
     "output_type": "execute_result"
    }
   ],
   "source": [
    "Markdown(result)"
   ]
  },
  {
   "cell_type": "markdown",
   "metadata": {},
   "source": [
    "<a name='1'></a>\n",
    " ## Other Popular Models as LLM for your Agents"
   ]
  },
  {
   "cell_type": "markdown",
   "metadata": {},
   "source": [
    "#### Hugging Face (HuggingFaceHub endpoint)\n",
    "\n",
    "```Python\n",
    "from langchain_community.llms import HuggingFaceHub\n",
    "\n",
    "llm = HuggingFaceHub(\n",
    "    repo_id=\"HuggingFaceH4/zephyr-7b-beta\",\n",
    "    huggingfacehub_api_token=\"<HF_TOKEN_HERE>\",\n",
    "    task=\"text-generation\",\n",
    ")\n",
    "\n",
    "### you will pass \"llm\" to your agent function\n",
    "```"
   ]
  },
  {
   "cell_type": "markdown",
   "metadata": {},
   "source": [
    "#### Mistral API\n",
    "\n",
    "```Python\n",
    "OPENAI_API_KEY=your-mistral-api-key\n",
    "OPENAI_API_BASE=https://api.mistral.ai/v1\n",
    "OPENAI_MODEL_NAME=\"mistral-small\"\n",
    "```"
   ]
  },
  {
   "cell_type": "markdown",
   "metadata": {},
   "source": [
    "#### Cohere\n",
    "\n",
    "```Python\n",
    "from langchain_community.chat_models import ChatCohere\n",
    "# Initialize language model\n",
    "os.environ[\"COHERE_API_KEY\"] = \"your-cohere-api-key\"\n",
    "llm = ChatCohere()\n",
    "\n",
    "### you will pass \"llm\" to your agent function\n",
    "```"
   ]
  },
  {
   "cell_type": "markdown",
   "metadata": {},
   "source": [
    "### For using Llama locally with Ollama and more, checkout the crewAI documentation on [Connecting to any LLM](https://docs.crewai.com/how-to/LLM-Connections/)."
   ]
  },
  {
   "cell_type": "code",
   "execution_count": null,
   "metadata": {
    "height": 29
   },
   "outputs": [],
   "source": []
  },
  {
   "cell_type": "code",
   "execution_count": null,
   "metadata": {
    "height": 29
   },
   "outputs": [],
   "source": []
  },
  {
   "cell_type": "code",
   "execution_count": null,
   "metadata": {
    "height": 29
   },
   "outputs": [],
   "source": []
  }
 ],
 "metadata": {
  "colab": {
   "gpuType": "T4",
   "provenance": []
  },
  "kernelspec": {
   "display_name": "Python 3 (ipykernel)",
   "language": "python",
   "name": "python3"
  },
  "language_info": {
   "codemirror_mode": {
    "name": "ipython",
    "version": 3
   },
   "file_extension": ".py",
   "mimetype": "text/x-python",
   "name": "python",
   "nbconvert_exporter": "python",
   "pygments_lexer": "ipython3",
   "version": "3.11.9"
  }
 },
 "nbformat": 4,
 "nbformat_minor": 4
}
