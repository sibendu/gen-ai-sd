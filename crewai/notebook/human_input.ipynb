{
 "cells": [
  {
   "cell_type": "markdown",
   "id": "d501c65b-600f-4786-95ce-ea00198bce0b",
   "metadata": {},
   "source": [
    "# Collect Human Input"
   ]
  },
  {
   "cell_type": "code",
   "execution_count": 1,
   "id": "19bb0541-dca8-4180-9fd0-edc885757a1f",
   "metadata": {},
   "outputs": [],
   "source": [
    "from crewai import Agent, Task, Crew\n",
    "from crewai.tools  import BaseTool"
   ]
  },
  {
   "cell_type": "code",
   "execution_count": 2,
   "id": "60b43a2a-69b0-46ca-bb51-857fc4d55d3c",
   "metadata": {},
   "outputs": [
    {
     "name": "stdout",
     "output_type": "stream",
     "text": [
      "azure/gpt-4\n"
     ]
    }
   ],
   "source": [
    "import os \n",
    "import yaml\n",
    "import json\n",
    "from dotenv import load_dotenv\n",
    "load_dotenv('../../.env')\n",
    "\n",
    "model= os.environ.get('model')\n",
    "print(model)"
   ]
  },
  {
   "cell_type": "code",
   "execution_count": 8,
   "id": "e9c858bd-a636-4691-a381-2a529b922113",
   "metadata": {},
   "outputs": [],
   "source": [
    "class FlightSearchTool(BaseTool):\n",
    "    name: str = \"Flight Search Tool\"\n",
    "    description: str = \"Search flight options\"\n",
    "\n",
    "    def _run(self, source: str, destination: str, travel_date: str) -> str:\n",
    "        print('*****Flight search results: '+ source + ' - ' + destination + ' - '+ travel_date)\n",
    "        flights = [{\"flight_no\": \"6E1321\", \"depart\": \"8am\"},{\"flight_no\": \"AIRINDIA\", \"depart\": \"9am\"}]\n",
    "        return flights\n",
    "\n",
    "class FlightBookingTool(BaseTool):\n",
    "    name: str = \"Flight Booking Tool\"\n",
    "    description: str = \"Book a flight\"\n",
    "\n",
    "    def _run(self, flight_no: str, departure: str) -> str:\n",
    "        print('*****Flight booking: '+flight_no + ' at '+ departure)\n",
    "        return 'Booked flight; PNR is 764dASGHGS827SD'; "
   ]
  },
  {
   "cell_type": "code",
   "execution_count": 9,
   "id": "1ba3bc77-42c1-4adc-b580-62866d9eb8df",
   "metadata": {},
   "outputs": [],
   "source": [
    "travel_agent = Agent(\n",
    "    role='Travel Agent',\n",
    "    goal='Help users with various travel related requests',\n",
    "    backstory=\"\"\"You are an AI Travel assistant. You help human users with their travel related requests of various types.\n",
    "    Based on the request, you can ask follow up questions to collect required information to fulfill the request in most meaningfl way.\n",
    "    For searching flight options, you can use Flight Search Tool.\n",
    "    For booking a flight, you can use Flight Booking Tool.\n",
    "    \"\"\",\n",
    "    verbose=True,\n",
    "    allow_delegation=False,\n",
    "    tools= [FlightSearchTool()]\n",
    ")\n",
    "\n",
    "# Create tasks for your agents\n",
    "travel_task = Task(description=\"Please help me to book a flight\",\n",
    "            expected_output=\"A satisfactory resolution of the query\",\n",
    "            agent=travel_agent,\n",
    "            human_input=True\n",
    "        )"
   ]
  },
  {
   "cell_type": "code",
   "execution_count": 10,
   "id": "922ace2c-3ede-4dbd-b755-da92685f6fa1",
   "metadata": {},
   "outputs": [
    {
     "name": "stderr",
     "output_type": "stream",
     "text": [
      "Overriding of current TracerProvider is not allowed\n"
     ]
    },
    {
     "name": "stdout",
     "output_type": "stream",
     "text": [
      "\u001b[1m\u001b[95m# Agent:\u001b[00m \u001b[1m\u001b[92mTravel Agent\u001b[00m\n",
      "\u001b[95m## Task:\u001b[00m \u001b[92mPlease help me to book a flight\u001b[00m\n",
      "\n",
      "\n",
      "\u001b[1m\u001b[95m# Agent:\u001b[00m \u001b[1m\u001b[92mTravel Agent\u001b[00m\n",
      "\u001b[95m## Final Answer:\u001b[00m \u001b[92m\n",
      "To assist you with booking a flight, could you please provide the following information:\n",
      "1. Your departure city or airport.\n",
      "2. Your destination city or airport.\n",
      "3. The date on which you would like to travel.\n",
      "Once I have these details, I can search for flight options for you.\u001b[00m\n",
      "\n",
      "\n",
      "\u001b[1m\u001b[95m ## Final Result:\u001b[00m \u001b[92mTo assist you with booking a flight, could you please provide the following information:\n",
      "1. Your departure city or airport.\n",
      "2. Your destination city or airport.\n",
      "3. The date on which you would like to travel.\n",
      "Once I have these details, I can search for flight options for you.\u001b[00m\n",
      "\u001b[1m\u001b[93m \n",
      "\n",
      "=====\n",
      "## HUMAN FEEDBACK: Provide feedback on the Final Result and Agent's actions.\n",
      "Respond with 'looks good' to accept or provide specific improvement requests.\n",
      "You can provide multiple rounds of feedback until satisfied.\n",
      "=====\n",
      "\u001b[00m\n"
     ]
    },
    {
     "name": "stdin",
     "output_type": "stream",
     "text": [
      " Travelling Kolkata to Mumbai on 10 Mar 2025\n"
     ]
    },
    {
     "name": "stdout",
     "output_type": "stream",
     "text": [
      "*****Flight search results: Kolkata - Mumbai - 2025-03-10\n",
      "\n",
      "\n",
      "\u001b[1m\u001b[95m# Agent:\u001b[00m \u001b[1m\u001b[92mTravel Agent\u001b[00m\n",
      "\u001b[95m## Thought:\u001b[00m \u001b[92mThought: The user has provided the details needed for a flight search: departure city (Kolkata), destination city (Mumbai), and the travel date (10th March 2025).\u001b[00m\n",
      "\u001b[95m## Using tool:\u001b[00m \u001b[92mFlight Search Tool\u001b[00m\n",
      "\u001b[95m## Tool Input:\u001b[00m \u001b[92m\n",
      "\"{\\\"source\\\": \\\"Kolkata\\\", \\\"destination\\\": \\\"Mumbai\\\", \\\"travel_date\\\": \\\"2025-03-10\\\"}\"\u001b[00m\n",
      "\u001b[95m## Tool Output:\u001b[00m \u001b[92m\n",
      "[{'flight_no': '6E1321', 'depart': '8am'}, {'flight_no': 'AIRINDIA', 'depart': '9am'}]\u001b[00m\n",
      "\n",
      "\n",
      "\u001b[1m\u001b[95m# Agent:\u001b[00m \u001b[1m\u001b[92mTravel Agent\u001b[00m\n",
      "\u001b[95m## Final Answer:\u001b[00m \u001b[92m\n",
      "Here are the available flight options for your trip from Kolkata to Mumbai on 10th March 2025:\n",
      "\n",
      "- Flight 6E1321 departs at 8 am.\n",
      "- Flight AIRINDIA departs at 9 am.\n",
      "\n",
      "Please let me know which flight you would like to book or if you need more information.\u001b[00m\n",
      "\n",
      "\n",
      "\u001b[1m\u001b[95m ## Final Result:\u001b[00m \u001b[92mHere are the available flight options for your trip from Kolkata to Mumbai on 10th March 2025:\n",
      "\n",
      "- Flight 6E1321 departs at 8 am.\n",
      "- Flight AIRINDIA departs at 9 am.\n",
      "\n",
      "Please let me know which flight you would like to book or if you need more information.\u001b[00m\n",
      "\u001b[1m\u001b[93m \n",
      "\n",
      "=====\n",
      "## HUMAN FEEDBACK: Provide feedback on the Final Result and Agent's actions.\n",
      "Respond with 'looks good' to accept or provide specific improvement requests.\n",
      "You can provide multiple rounds of feedback until satisfied.\n",
      "=====\n",
      "\u001b[00m\n"
     ]
    },
    {
     "name": "stdin",
     "output_type": "stream",
     "text": [
      " Book AirIndia option please\n"
     ]
    }
   ],
   "source": [
    "crew = Crew(\n",
    "    agents=[travel_agent],\n",
    "    tasks=[travel_task],\n",
    "    verbose=True\n",
    ")\n",
    "result = crew.kickoff()"
   ]
  },
  {
   "cell_type": "code",
   "execution_count": 11,
   "id": "3989d36f-fb78-457d-9996-111cd786a888",
   "metadata": {},
   "outputs": [
    {
     "data": {
      "text/plain": [
       "CrewOutput(raw='Here are the available flight options for your trip from Kolkata to Mumbai on 10th March 2025:\\n\\n- Flight 6E1321 departs at 8 am.\\n- Flight AIRINDIA departs at 9 am.\\n\\nPlease let me know which flight you would like to book or if you need more information.', pydantic=None, json_dict=None, tasks_output=[TaskOutput(description='Please help me to book a flight', name=None, expected_output='A satisfactory resolution of the query', summary='Please help me to book a flight...', raw='Here are the available flight options for your trip from Kolkata to Mumbai on 10th March 2025:\\n\\n- Flight 6E1321 departs at 8 am.\\n- Flight AIRINDIA departs at 9 am.\\n\\nPlease let me know which flight you would like to book or if you need more information.', pydantic=None, json_dict=None, agent='Travel Agent', output_format=<OutputFormat.RAW: 'raw'>)], token_usage=UsageMetrics(total_tokens=1968, prompt_tokens=1700, cached_prompt_tokens=0, completion_tokens=268, successful_requests=5))"
      ]
     },
     "execution_count": 11,
     "metadata": {},
     "output_type": "execute_result"
    }
   ],
   "source": [
    "result"
   ]
  },
  {
   "cell_type": "code",
   "execution_count": null,
   "id": "2e237c64-025c-465b-a70c-18544249dc6d",
   "metadata": {},
   "outputs": [],
   "source": []
  }
 ],
 "metadata": {
  "kernelspec": {
   "display_name": ".venv",
   "language": "python",
   "name": ".venv"
  },
  "language_info": {
   "codemirror_mode": {
    "name": "ipython",
    "version": 3
   },
   "file_extension": ".py",
   "mimetype": "text/x-python",
   "name": "python",
   "nbconvert_exporter": "python",
   "pygments_lexer": "ipython3",
   "version": "3.10.2"
  }
 },
 "nbformat": 4,
 "nbformat_minor": 5
}
