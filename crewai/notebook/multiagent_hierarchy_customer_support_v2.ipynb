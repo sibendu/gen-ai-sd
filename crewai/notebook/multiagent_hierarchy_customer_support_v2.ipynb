{
 "cells": [
  {
   "cell_type": "code",
   "execution_count": 45,
   "id": "60b43a2a-69b0-46ca-bb51-857fc4d55d3c",
   "metadata": {},
   "outputs": [
    {
     "name": "stdout",
     "output_type": "stream",
     "text": [
      "azure/gpt-4\n"
     ]
    }
   ],
   "source": [
    "import os \n",
    "from dotenv import load_dotenv\n",
    "load_dotenv('../../.env')\n",
    "\n",
    "model=os.environ.get('model')\n",
    "print(model)\n",
    "\n",
    "os.environ[\"AZURE_OPENAI_ENDPOINT\"] = os.environ.get('AZURE_API_BASE')\n",
    "os.environ[\"AZURE_OPENAI_API_KEY\"] = os.environ.get('AZURE_API_KEY')\n",
    "os.environ[\"AZURE_OPENAI_API_VERSION\"] = os.environ.get('AZURE_API_VERSION')"
   ]
  },
  {
   "cell_type": "code",
   "execution_count": 46,
   "id": "05c18d24-0695-4b00-b9da-c2b5d65c0b01",
   "metadata": {},
   "outputs": [],
   "source": [
    "from crewai import Agent, Task, Crew\n",
    "from crewai.memory.short_term.short_term_memory import ShortTermMemory \n",
    "from crewai.memory.memory import Memory\n",
    "from langchain.vectorstores import FAISS\n",
    "from langchain.embeddings import AzureOpenAIEmbeddings\n",
    "from langchain.chat_models import AzureChatOpenAI"
   ]
  },
  {
   "cell_type": "markdown",
   "id": "c0727287-cb54-4e6d-b382-83f449cb2a70",
   "metadata": {},
   "source": [
    "## Example utility function that simulates keyword-based classification.\n",
    "In a production CrewAI implementation, this might be replaced with calls to Azure OpenAI for natural language classification"
   ]
  },
  {
   "cell_type": "code",
   "execution_count": 47,
   "id": "9542e8de-29ef-43c7-9d53-846393a0ce9d",
   "metadata": {},
   "outputs": [],
   "source": [
    "def classify_query(text, keywords): \n",
    "    text_lower = text.lower() \n",
    "    for key in keywords: \n",
    "        if key in text_lower: \n",
    "            return True \n",
    "    return False"
   ]
  },
  {
   "cell_type": "markdown",
   "id": "62fa3b43-4044-4259-9f2c-f74cb9ca16f6",
   "metadata": {},
   "source": [
    "## Base Agent class for all agents"
   ]
  },
  {
   "cell_type": "code",
   "execution_count": 48,
   "id": "4ed66187-b9eb-49fa-8839-e02b32d14ecd",
   "metadata": {},
   "outputs": [],
   "source": [
    "class Agent: \n",
    "    def __init__(self, name): \n",
    "        self.name = name\n",
    "    \n",
    "    def process(self, query):\n",
    "        raise NotImplementedError(\"Agent process method must be implemented by subclasses\")"
   ]
  },
  {
   "cell_type": "markdown",
   "id": "e7b3e842-130d-4812-8314-5e7fb3728276",
   "metadata": {},
   "source": [
    "## Specialized Agents for Travel"
   ]
  },
  {
   "cell_type": "code",
   "execution_count": 49,
   "id": "6107c043-de7b-442d-a693-6cb95d1d06f9",
   "metadata": {},
   "outputs": [],
   "source": [
    "#########################\n",
    "## Travel related agents\n",
    "#########################\n",
    "\n",
    "class FlightAgent(Agent): \n",
    "    def process(self, query): \n",
    "        return f\"{self.name} handling flight query: {query}\"\n",
    "\n",
    "class TrainAgent(Agent): \n",
    "    def process(self, query): \n",
    "        return f\"{self.name} handling train query: {query}\"\n",
    "\n",
    "class TravelAssistantAgent(Agent): \n",
    "    def process(self, query): \n",
    "        return f\"{self.name} handling general travel query: {query}\"\n",
    "\n",
    "#########################\n",
    "## Finance related agents\n",
    "#########################\n",
    "class StockAgent(Agent): \n",
    "    def process(self, query): \n",
    "        return f\"{self.name} handling stock query: {query}\"\n",
    "\n",
    "class MutualFundAgent(Agent): \n",
    "    def process(self, query): \n",
    "        return f\"{self.name} handling mutual fund query: {query}\"\n",
    "\n",
    "class FinanceAssistantAgent(Agent): \n",
    "    def process(self, query): \n",
    "        return f\"{self.name} handling general finance query: {query}\"        "
   ]
  },
  {
   "cell_type": "markdown",
   "id": "3ff052b0-0b66-4b1e-869a-fa9337884760",
   "metadata": {},
   "source": [
    "## Supervisor Agents that route queries in their respective domains"
   ]
  },
  {
   "cell_type": "code",
   "execution_count": 53,
   "id": "cf63f29e-f273-4ff2-b4e5-1fa5c4ede865",
   "metadata": {},
   "outputs": [],
   "source": [
    "class TravelSupervisor(Agent): \n",
    "    def __init__(self, name): \n",
    "        super().__init__(name) \n",
    "        self.flight_agent = FlightAgent(\"flight_agent\") \n",
    "        self.train_agent = TrainAgent(\"train_agent\") \n",
    "        self.assistant_agent = TravelAssistantAgent(\"travel_assistant_agent\")\n",
    "\n",
    "    def process(self, query):\n",
    "        # Determine which travel agent the query should be sent to\n",
    "        if classify_query(query, [\"flight\", \"airline\", \"airplane\"]):\n",
    "            return self.flight_agent.process(query)\n",
    "        elif classify_query(query, [\"train\", \"rail\"]):\n",
    "            return self.train_agent.process(query)\n",
    "        else:\n",
    "            return self.assistant_agent.process(query)\n",
    "\n",
    "class FinanceSupervisor(Agent): \n",
    "    def __init__(self, name): \n",
    "        super().__init__(name) \n",
    "        self.stock_agent = StockAgent(\"stock_agent\") \n",
    "        self.mutual_fund_agent = MutualFundAgent(\"mutual_fund_agent\") \n",
    "        self.assistant_agent = FinanceAssistantAgent(\"finance_assistant_agent\")\n",
    "\n",
    "    def process(self, query):\n",
    "        # Determine which finance agent the query should be sent to\n",
    "        if classify_query(query, [\"stock\", \"share\", \"market\"]):\n",
    "            return self.stock_agent.process(query)\n",
    "        elif classify_query(query, [\"mutual fund\", \"investment fund\"]):\n",
    "            return self.mutual_fund_agent.process(query)\n",
    "        else:\n",
    "            return self.assistant_agent.process(query)        "
   ]
  },
  {
   "cell_type": "markdown",
   "id": "c34fb9f1-f2d0-4bd6-9dfa-38ca8cc943b5",
   "metadata": {},
   "source": [
    "## Master Supervisor which routes to either travel or finance supervisor"
   ]
  },
  {
   "cell_type": "code",
   "execution_count": 54,
   "id": "d5afe586-e591-4809-897f-5c3b5c9d23fe",
   "metadata": {},
   "outputs": [],
   "source": [
    "class MasterSupervisor(Agent): \n",
    "    def __init__(self, name): \n",
    "        super().__init__(name) \n",
    "        self.travel_supervisor = TravelSupervisor(\"travel_supervisor\") \n",
    "        self.finance_supervisor = FinanceSupervisor(\"finance_supervisor\")\n",
    "\n",
    "    def process(self, query):\n",
    "        # Use simple keyword matching to decide on travel vs finance.\n",
    "        # In a real-world CrewAI implementation, you would leverage Azure OpenAI's NL understanding.\n",
    "        if classify_query(query, [\"flight\", \"train\", \"travel\", \"airline\", \"rail\"]):\n",
    "            response = self.travel_supervisor.process(query)\n",
    "            return f\"Routed to travel domain: {response}\"\n",
    "        elif classify_query(query, [\"stock\", \"mutual fund\", \"finance\", \"investment\"]):\n",
    "            response = self.finance_supervisor.process(query)\n",
    "            return f\"Routed to finance domain: {response}\"\n",
    "        else:\n",
    "            return \"Unable to determine query domain, please rephrase.\""
   ]
  },
  {
   "cell_type": "markdown",
   "id": "6367a26f-bd5e-4c73-8526-fb2ffe1a7a62",
   "metadata": {},
   "source": [
    "## Simulate processing customer queries."
   ]
  },
  {
   "cell_type": "code",
   "execution_count": 55,
   "id": "3843765f-fe99-47a2-bac1-1163e2fd8a2d",
   "metadata": {},
   "outputs": [
    {
     "name": "stdout",
     "output_type": "stream",
     "text": [
      "Query: I need to book a flight ticket for my vacation.\n",
      "Response: Routed to travel domain: flight_agent handling flight query: I need to book a flight ticket for my vacation.\n",
      "--------------------------------------------------\n",
      "Query: What's the current stock price for ABC Corp?\n",
      "Response: Routed to finance domain: stock_agent handling stock query: What's the current stock price for ABC Corp?\n",
      "--------------------------------------------------\n",
      "Query: Can you help me with train timings for tomorrow?\n",
      "Response: Routed to travel domain: train_agent handling train query: Can you help me with train timings for tomorrow?\n",
      "--------------------------------------------------\n",
      "Query: I want to know more about mutual fund investments.\n",
      "Response: Routed to finance domain: mutual_fund_agent handling mutual fund query: I want to know more about mutual fund investments.\n",
      "--------------------------------------------------\n",
      "Query: Help me plan my travel itinerary.\n",
      "Response: Routed to travel domain: travel_assistant_agent handling general travel query: Help me plan my travel itinerary.\n",
      "--------------------------------------------------\n"
     ]
    }
   ],
   "source": [
    "master = MasterSupervisor(\"master_supervisor\")\n",
    "\n",
    "queries = [\n",
    "    \"I need to book a flight ticket for my vacation.\",\n",
    "    \"What's the current stock price for ABC Corp?\",\n",
    "    \"Can you help me with train timings for tomorrow?\",\n",
    "    \"I want to know more about mutual fund investments.\",\n",
    "    \"Help me plan my travel itinerary.\"\n",
    "]\n",
    "\n",
    "for query in queries:\n",
    "    print(\"Query:\", query)\n",
    "    result = master.process(query)\n",
    "    print(\"Response:\", result)\n",
    "    print(\"-\" * 50)"
   ]
  },
  {
   "cell_type": "code",
   "execution_count": null,
   "id": "6d152fd2-e50f-4f66-b5a0-f167575ff4aa",
   "metadata": {},
   "outputs": [],
   "source": []
  }
 ],
 "metadata": {
  "kernelspec": {
   "display_name": ".venv",
   "language": "python",
   "name": ".venv"
  },
  "language_info": {
   "codemirror_mode": {
    "name": "ipython",
    "version": 3
   },
   "file_extension": ".py",
   "mimetype": "text/x-python",
   "name": "python",
   "nbconvert_exporter": "python",
   "pygments_lexer": "ipython3",
   "version": "3.10.2"
  }
 },
 "nbformat": 4,
 "nbformat_minor": 5
}
