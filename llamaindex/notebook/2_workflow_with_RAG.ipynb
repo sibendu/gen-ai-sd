{
 "cells": [
  {
   "cell_type": "markdown",
   "id": "b2060be6-ec2f-4a5a-b0f4-61dc93139732",
   "metadata": {},
   "source": [
    "## Adding RAG\n",
    "Add a document database to a workflow.\n",
    "Parse a resume and load it into a vector store, and use the agent to run basic queries against the documents. \n",
    "Use LlamaParse to parse the documents. LlamaParse is an advanced document parser that can read PDFs, Word files, Powerpoints, Excel spreadsheets, and extract information out of complicated PDFs into a form LLMs find easy to understand."
   ]
  },
  {
   "cell_type": "markdown",
   "id": "b1229da0-c307-47ff-a079-dbaaded2ea96",
   "metadata": {},
   "source": [
    "## Importing Libraries"
   ]
  },
  {
   "cell_type": "code",
   "execution_count": 1,
   "id": "de54d270-81bf-422a-aeb8-f1e83f2153d2",
   "metadata": {
    "height": 98
   },
   "outputs": [],
   "source": [
    "from IPython.display import display, HTML\n",
    "from helper import extract_html_content\n",
    "from llama_index.utils.workflow import draw_all_possible_flows\n",
    "import os"
   ]
  },
  {
   "cell_type": "code",
   "execution_count": 2,
   "id": "61267ae9-a841-47f1-9584-437fd1be5816",
   "metadata": {
    "height": 47
   },
   "outputs": [],
   "source": [
    "import nest_asyncio\n",
    "nest_asyncio.apply()"
   ]
  },
  {
   "cell_type": "markdown",
   "id": "23bee788-6706-4cb9-84e6-35fa3daac098",
   "metadata": {},
   "source": [
    "We need two API keys: \n",
    "- Azure OpenAI\n",
    "- LlamaCloud API key to use LlamaParse to parse the PDFs\n"
   ]
  },
  {
   "cell_type": "code",
   "execution_count": 3,
   "id": "f5531548-2614-46cd-8850-aedada1ac3b6",
   "metadata": {},
   "outputs": [
    {
     "data": {
      "text/plain": [
       "True"
      ]
     },
     "execution_count": 3,
     "metadata": {},
     "output_type": "execute_result"
    }
   ],
   "source": [
    "import os \n",
    "import yaml\n",
    "import json\n",
    "from dotenv import load_dotenv\n",
    "load_dotenv('../../.env')"
   ]
  },
  {
   "cell_type": "code",
   "execution_count": 6,
   "id": "0046334c-404b-4c44-abcd-7cc1c8e0e4cb",
   "metadata": {
    "height": 47
   },
   "outputs": [],
   "source": [
    "llama_cloud_api_key = os.getenv(\"LLAMA_CLOUD_API_KEY\")"
   ]
  },
  {
   "cell_type": "markdown",
   "id": "aa144829-78b4-409b-a9f7-3b4e71b28e1e",
   "metadata": {},
   "source": [
    "## Performing Retrieval-Augmented Generation (RAG) on a Resume Document"
   ]
  },
  {
   "cell_type": "markdown",
   "id": "e19853ba-dc5e-44e2-9395-9c2db18d22c9",
   "metadata": {},
   "source": [
    "### 1. Parsing the Resume Document \n",
    "\n",
    "Using LLamaParse, we transform the resume into a list of Document objects. By default, a Document object stores text along with some other attributes:\n",
    "- metadata: a dictionary of annotations that can be appended to the text.\n",
    "- relationships: a dictionary containing relationships to other Documents.\n",
    "  \n",
    "We can tell LlamaParse what kind of document it's parsing, so that it will parse the contents more intelligently. In this case, we tell it that it's reading a resume."
   ]
  },
  {
   "cell_type": "code",
   "execution_count": 7,
   "id": "86ccb487-d089-4ac2-844a-4b3bc0f5e223",
   "metadata": {
    "height": 30
   },
   "outputs": [],
   "source": [
    "from llama_parse import LlamaParse"
   ]
  },
  {
   "cell_type": "code",
   "execution_count": 6,
   "id": "27c781be-89b1-45da-836a-614b0ceb15e6",
   "metadata": {},
   "outputs": [
    {
     "data": {
      "text/plain": [
       "'C:\\\\Temp\\\\openai\\\\gen-ai-sd\\\\llamaindex\\\\.venv\\\\lib\\\\site-packages\\\\certifi\\\\cacert.pem'"
      ]
     },
     "execution_count": 6,
     "metadata": {},
     "output_type": "execute_result"
    }
   ],
   "source": [
    "import certifi\n",
    "certifi.where()"
   ]
  },
  {
   "cell_type": "code",
   "execution_count": 8,
   "id": "3ff32431-3ae4-446a-a458-c40949ef6f4f",
   "metadata": {
    "height": 164
   },
   "outputs": [
    {
     "name": "stdout",
     "output_type": "stream",
     "text": [
      "WARNING: content_guideline_instruction is deprecated and may be remove in a future release. Use system_prompt, system_prompt_append or user_prompt instead.\n",
      "DEFAULT_BASE_URL:https://api.cloud.llamaindex.ai\n",
      "base_url: /api/parsing/upload\n",
      "Started parsing the file under job_id 3587d1cd-1be7-4b6c-96ba-dd8621470a9f\n"
     ]
    }
   ],
   "source": [
    "documents = LlamaParse(\n",
    "    api_key=llama_cloud_api_key,\n",
    "    base_url=os.getenv(\"LLAMA_CLOUD_BASE_URL\"),\n",
    "    result_type=\"markdown\",\n",
    "    content_guideline_instruction=\"This is a resume, gather related facts together and format it as bullet points with headers\"\n",
    ").load_data(\n",
    "    \"data/fake_resume.pdf\",\n",
    ")"
   ]
  },
  {
   "cell_type": "markdown",
   "id": "9e0fdeea-70ee-4422-a488-003a305bcf5a",
   "metadata": {},
   "source": [
    "This gives you a list of Document objects you can feed to a VectorStoreIndex."
   ]
  },
  {
   "cell_type": "code",
   "execution_count": 9,
   "id": "1245b406-c0ff-42b8-9498-cb14e2f729bf",
   "metadata": {
    "height": 30
   },
   "outputs": [
    {
     "name": "stdout",
     "output_type": "stream",
     "text": [
      "# Projects\n",
      "\n",
      "# EcoTrack | GitHub\n",
      "\n",
      "- Built full-stack application for tracking carbon footprint using React, Node.js, and MongoDB\n",
      "- Implemented machine learning algorithm for providing personalized sustainability recommendations\n",
      "- Featured in TechCrunch's \"Top 10 Environmental Impact Apps of 2023\"\n",
      "\n",
      "# ChatFlow | Demo\n",
      "\n",
      "- Developed real-time chat application using WebSocket protocol and React\n",
      "- Implemented end-to-end encryption and message persistence\n",
      "- Serves 5000+ monthly active users\n",
      "\n",
      "# Certifications\n",
      "\n",
      "- AWS Certified Solutions Architect (2023)\n",
      "- Google Cloud Professional Developer (2022)\n",
      "- MongoDB Certified Developer (2021)\n",
      "\n",
      "# Languages\n",
      "\n",
      "- English (Native)\n",
      "- Mandarin Chinese (Fluent)\n",
      "- Spanish (Intermediate)\n",
      "\n",
      "# Interests\n",
      "\n",
      "- Open source contribution\n",
      "- Tech blogging (15K+ Medium followers)\n",
      "- Hackathon mentoring\n",
      "- Rock climbing\n"
     ]
    }
   ],
   "source": [
    "print(documents[2].text)"
   ]
  },
  {
   "cell_type": "markdown",
   "id": "86df6497-f6b0-4231-8fc2-57a326f2bac6",
   "metadata": {},
   "source": [
    "### 2. Create a Vector Store Index\n",
    "We feed the Document objects to `VectorStoreIndex`. `VectorStoreIndex` will use an embedding model to embed the text. "
   ]
  },
  {
   "cell_type": "code",
   "execution_count": 45,
   "id": "90d6351c-9e1f-457b-b6d0-d739fb826743",
   "metadata": {
    "height": 47
   },
   "outputs": [],
   "source": [
    "from llama_index.embeddings.azure_openai import AzureOpenAIEmbedding\n",
    "from llama_index.llms.azure_openai import AzureOpenAI\n",
    "from llama_index.core import VectorStoreIndex"
   ]
  },
  {
   "cell_type": "code",
   "execution_count": 46,
   "id": "df8abe0a-e08f-4c8b-8086-d52ac7f574a4",
   "metadata": {},
   "outputs": [],
   "source": [
    "embedding_model = AzureOpenAIEmbedding(model_name=\"text-embedding-ada-002\")\n",
    "llm = AzureOpenAI(engine=\"gpt-4\", model=\"gpt-4\")"
   ]
  },
  {
   "cell_type": "markdown",
   "id": "01de6653-243b-4ddd-8a1a-efd77dfbb1db",
   "metadata": {},
   "source": [
    "### 3. Creating a Query Engine with the Index\n",
    "With an index, we can create a query engine and ask questions using an LLM"
   ]
  },
  {
   "cell_type": "code",
   "execution_count": 47,
   "id": "4b6b96c5-82a7-4c9f-9e8d-300806533340",
   "metadata": {
    "height": 98
   },
   "outputs": [],
   "source": [
    "index = VectorStoreIndex.from_documents(\n",
    "    documents,\n",
    "    embed_model=embedding_model\n",
    ")"
   ]
  },
  {
   "cell_type": "code",
   "execution_count": 42,
   "id": "8820d8b0-4749-4414-afbe-cbc3bc6146dd",
   "metadata": {
    "height": 64
   },
   "outputs": [
    {
     "name": "stdout",
     "output_type": "stream",
     "text": [
      "This person's name is Sarah Chen, and her most recent job is Senior Full Stack Developer at TechFlow Solutions in San Francisco, CA.\n"
     ]
    }
   ],
   "source": [
    "query_engine = index.as_query_engine(llm=llm, similarity_top_k=5)\n",
    "response = query_engine.query(\"What is this person's name and what was their most recent job?\")\n",
    "print(response)"
   ]
  },
  {
   "cell_type": "markdown",
   "id": "d443cdeb-fb24-4ad9-abd5-c4bf845ca258",
   "metadata": {},
   "source": [
    "### 4. Storing the Index to Disk\n",
    "In a production setting, you would probably use a hosted vector store of some kind."
   ]
  },
  {
   "cell_type": "code",
   "execution_count": 32,
   "id": "6dc5fbb0-e700-45d9-9e44-a6deae557a94",
   "metadata": {
    "height": 64
   },
   "outputs": [],
   "source": [
    "storage_dir = \"./storage\"  ## llama-index automatically creates the directory\n",
    "\n",
    "index.storage_context.persist(persist_dir=storage_dir)"
   ]
  },
  {
   "cell_type": "code",
   "execution_count": 36,
   "id": "733c762c-27d0-4bab-9a72-c5c0e568f9c4",
   "metadata": {
    "height": 132
   },
   "outputs": [],
   "source": [
    "from llama_index.core import StorageContext, load_index_from_storage\n",
    "\n",
    "## Reload the index from disk using the `load_index_from_storage` method\n",
    "\n",
    "# Check if the index is stored on disk\n",
    "if os.path.exists(storage_dir):\n",
    "    # Load the index from disk\n",
    "    storage_context = StorageContext.from_defaults(persist_dir=storage_dir)\n",
    "    restored_index = load_index_from_storage(storage_context)\n",
    "else:\n",
    "    print(\"Index not found on disk.\")"
   ]
  },
  {
   "cell_type": "code",
   "execution_count": 48,
   "id": "153408e6-e8fc-45b4-a21e-618a2f535b24",
   "metadata": {},
   "outputs": [],
   "source": [
    "restored_query_engine = restored_index.as_query_engine(llm=llm, embed_model=embedding_model, similarity_top_k=5)"
   ]
  },
  {
   "cell_type": "code",
   "execution_count": 49,
   "id": "933e1172-2187-4847-a5a6-fca67eb9f1d6",
   "metadata": {
    "height": 47
   },
   "outputs": [
    {
     "name": "stdout",
     "output_type": "stream",
     "text": [
      "This person's name is Sarah Chen, and her most recent job is Senior Full Stack Developer at TechFlow Solutions in San Francisco, CA.\n"
     ]
    }
   ],
   "source": [
    "response = restored_query_engine.query(\"What is this person's name and what was their most recent job?\")\n",
    "print(response)"
   ]
  },
  {
   "cell_type": "markdown",
   "id": "a709fda1-7cd5-4c9a-b219-ed64d16d9e76",
   "metadata": {},
   "source": [
    "## Making RAG Agentic"
   ]
  },
  {
   "cell_type": "markdown",
   "id": "ba0d7e4b-5167-4214-a09b-132c62c5370b",
   "metadata": {},
   "source": [
    "With a RAG pipeline in hand, let's turn it into a tool that can be used by an agent to answer questions. This is a stepping-stone towards creating an agentic system that can perform your larger goal."
   ]
  },
  {
   "cell_type": "code",
   "execution_count": 50,
   "id": "30f1ca1b-7e2f-416b-aa42-1adcd7d0fd53",
   "metadata": {
    "height": 47
   },
   "outputs": [],
   "source": [
    "from llama_index.core.tools import FunctionTool\n",
    "from llama_index.core.agent import FunctionCallingAgent"
   ]
  },
  {
   "cell_type": "markdown",
   "id": "f2a3ce49-7009-4bb4-a8e7-8f3d543a9ca2",
   "metadata": {},
   "source": [
    "First, create a regular python function that performs a RAG query. It's important to give this function a descriptive name, to mark its input and output types, and to include a docstring (that's the thing in triple quotes) which describes what it does. The framework will give all this metadata to the LLM, which will use it to decide what a tool does and whether to use it."
   ]
  },
  {
   "cell_type": "code",
   "execution_count": 51,
   "id": "6837a256-7273-4a63-9f0b-2733a9f143d8",
   "metadata": {
    "height": 98
   },
   "outputs": [],
   "source": [
    "def query_resume(q: str) -> str:\n",
    "    \"\"\"Answers questions about a specific resume.\"\"\"\n",
    "    # we're using the query engine we already created above\n",
    "    response = query_engine.query(f\"This is a question about the specific resume we have in our database: {q}\")\n",
    "    return response.response"
   ]
  },
  {
   "cell_type": "markdown",
   "id": "6f0b3802-0452-49f7-a6b2-19d173f18021",
   "metadata": {},
   "source": [
    "The next step is to create the actual tool. There's a utility function, `FunctionTool.from_defaults`, to do this for you."
   ]
  },
  {
   "cell_type": "code",
   "execution_count": 52,
   "id": "507c1f77-3f9c-4864-ae8c-2fcbc4f91a30",
   "metadata": {
    "height": 30
   },
   "outputs": [],
   "source": [
    "resume_tool = FunctionTool.from_defaults(fn=query_resume)"
   ]
  },
  {
   "cell_type": "markdown",
   "id": "f0e0b483-dcb0-4b65-b3ba-0311f6e41766",
   "metadata": {},
   "source": [
    "Now you can instantiate a `FunctionCallingAgent` using that tool. There are a number of different agent types supported by LlamaIndex; this one is particularly capable and efficient.\n",
    "\n",
    "You pass it an array of tools (just one in this case), you give it the same LLM we instantiated earlier, and you set Verbose to true so you get a little more info on what your agent is up to."
   ]
  },
  {
   "cell_type": "code",
   "execution_count": 53,
   "id": "53a2b4bb-f4ef-494a-af61-e12052706945",
   "metadata": {
    "height": 98
   },
   "outputs": [],
   "source": [
    "agent = FunctionCallingAgent.from_tools(\n",
    "    tools=[resume_tool],\n",
    "    llm=llm,\n",
    "    verbose=True\n",
    ")"
   ]
  },
  {
   "cell_type": "markdown",
   "id": "b603f59f-dc5a-47fe-b0d8-0360e49cb9e6",
   "metadata": {},
   "source": [
    "Now you can chat to the agent! Let's ask it a quick question about our applicant."
   ]
  },
  {
   "cell_type": "code",
   "execution_count": 54,
   "id": "22722aa1-dcb0-4225-a16e-8ccdf254f288",
   "metadata": {
    "height": 47
   },
   "outputs": [
    {
     "name": "stdout",
     "output_type": "stream",
     "text": [
      "> Running step fbb18c4a-f194-41b7-ad1c-a025e1f74533. Step input: How many years of experience does the applicant have?\n",
      "Added user message to memory: How many years of experience does the applicant have?\n",
      "=== Calling Function ===\n",
      "Calling function: query_resume with args: {\"q\": \"How many years of experience does the applicant have?\"}\n",
      "=== Function Output ===\n",
      "The applicant has over 6 years of experience as a Full Stack Web Developer. They worked as a Junior Web Developer from June 2017 to February 2019, as a Full Stack Developer from March 2019 to December 2021, and as a Senior Full Stack Developer from January 2022 to the present.\n",
      "> Running step bf9d2230-b88a-4e41-977f-f41adbba501f. Step input: None\n",
      "=== LLM Response ===\n",
      "The applicant has over 6 years of experience as a Full Stack Web Developer.\n",
      "The applicant has over 6 years of experience as a Full Stack Web Developer.\n"
     ]
    }
   ],
   "source": [
    "response = agent.chat(\"How many years of experience does the applicant have?\")\n",
    "print(response)"
   ]
  },
  {
   "cell_type": "markdown",
   "id": "88192e1d-b3a4-4e9a-aa21-35681997c82a",
   "metadata": {},
   "source": [
    "You can see the agent getting the question, adding it to its memory, picking a tool, calling it with appropriate arguments, and getting the output back."
   ]
  },
  {
   "cell_type": "markdown",
   "id": "751e4848-c143-434d-8c00-587435daa29d",
   "metadata": {},
   "source": [
    "## Wrapping the Agentic RAG into a Workflow"
   ]
  },
  {
   "cell_type": "markdown",
   "id": "50080f70-b004-4a61-b2e3-8a0238f2b972",
   "metadata": {},
   "source": [
    "You've now got a RAG pipeline and an agent. Let's now create a similar agentic RAG from scratch using a workflow, which you'll extend in later lessons. You won't rely on any of the things you've already created.\n",
    "\n",
    "Here's the workflow you will create:\n",
    "<img width=\"400\" src=\"images/rag_workflow.png\">\n",
    "\n",
    "It consists of two steps:\n",
    "1. `set_up` which is triggered by `StartEvent` and emits `QueryEvent`: at this step, the RAG system is set up and the query is passed to the second step;\n",
    "2. `ask_question` which is triggered by `QueryEvent` and emits `StopEvent`: here the response to the query is generated using the RAG query engine."
   ]
  },
  {
   "cell_type": "code",
   "execution_count": 60,
   "id": "eccb7ffb-09d0-433b-8541-279bbe0f02e9",
   "metadata": {},
   "outputs": [],
   "source": [
    "from llama_index.embeddings.azure_openai import AzureOpenAIEmbedding\n",
    "from llama_index.llms.azure_openai import AzureOpenAI\n",
    "from llama_index.core import VectorStoreIndex\n",
    "\n",
    "embedding_model = AzureOpenAIEmbedding(model_name=\"text-embedding-ada-002\")\n",
    "llm = AzureOpenAI(engine=\"gpt-4\", model=\"gpt-4\")"
   ]
  },
  {
   "cell_type": "code",
   "execution_count": 61,
   "id": "785f156c-9f06-4ea9-90cc-2f629fc7a7c8",
   "metadata": {
    "height": 149
   },
   "outputs": [],
   "source": [
    "from llama_index.core.workflow import (\n",
    "    StartEvent,\n",
    "    StopEvent,\n",
    "    Workflow,\n",
    "    step,\n",
    "    Event,\n",
    "    Context\n",
    ")"
   ]
  },
  {
   "cell_type": "code",
   "execution_count": 62,
   "id": "659595b3-714f-441a-bd5b-84c36ea76367",
   "metadata": {
    "height": 47
   },
   "outputs": [],
   "source": [
    "class QueryEvent(Event):\n",
    "    query: str"
   ]
  },
  {
   "cell_type": "code",
   "execution_count": 68,
   "id": "06f76078-eb50-48d9-af22-47d5504e7e78",
   "metadata": {
    "height": 776
   },
   "outputs": [],
   "source": [
    "class RAGWorkflow(Workflow):\n",
    "    storage_dir = \"./storage\"\n",
    "    llm: AzureOpenAI\n",
    "    query_engine: VectorStoreIndex\n",
    "\n",
    "    # the first step will be setup\n",
    "    @step\n",
    "    async def set_up(self, ctx: Context, ev: StartEvent) -> QueryEvent:\n",
    "\n",
    "        if not ev.resume_file:\n",
    "            raise ValueError(\"No resume file provided\")\n",
    "\n",
    "        # define an LLM to work with\n",
    "        self.llm = llm\n",
    "\n",
    "        # ingest the data and set up the query engine\n",
    "        if os.path.exists(self.storage_dir):\n",
    "            # you've already ingested your documents\n",
    "            storage_context = StorageContext.from_defaults(persist_dir=self.storage_dir)\n",
    "            index = load_index_from_storage(storage_context)\n",
    "        else:\n",
    "            # parse and load your documents\n",
    "            documents = LlamaParse(\n",
    "                result_type=\"markdown\",\n",
    "                content_guideline_instruction=\"This is a resume, gather related facts together and format it as bullet points with headers\"\n",
    "            ).load_data(ev.resume_file)\n",
    "            # embed and index the documents\n",
    "            index = VectorStoreIndex.from_documents(\n",
    "                documents,\n",
    "                embed_model=embedding_model\n",
    "            )\n",
    "            index.storage_context.persist(persist_dir=self.storage_dir)\n",
    "\n",
    "        # either way, create a query engine\n",
    "        self.query_engine = index.as_query_engine(llm=self.llm, embed_model=embedding_model, similarity_top_k=5)\n",
    "\n",
    "        # now fire off a query event to trigger the next step\n",
    "        return QueryEvent(query=ev.query)\n",
    "\n",
    "    # the second step will be to ask a question and return a result immediately\n",
    "    @step\n",
    "    async def ask_question(self, ctx: Context, ev: QueryEvent) -> StopEvent:\n",
    "        response = self.query_engine.query(f\"This is a question about the specific resume we have in our database: {ev.query}\")\n",
    "        return StopEvent(result=response.response)"
   ]
  },
  {
   "cell_type": "markdown",
   "id": "63bf8325-7f79-4855-8080-a7df1237929b",
   "metadata": {},
   "source": [
    "You run it like before, giving it a fake resume we created for you."
   ]
  },
  {
   "cell_type": "code",
   "execution_count": 69,
   "id": "a06c2823-e2ae-4bc0-990d-e23707df7804",
   "metadata": {
    "height": 115
   },
   "outputs": [
    {
     "name": "stdout",
     "output_type": "stream",
     "text": [
      "The first place the applicant worked, according to the resume, was at StartupHub in San Jose, CA.\n"
     ]
    }
   ],
   "source": [
    "w = RAGWorkflow(timeout=120, verbose=False)\n",
    "result = await w.run(\n",
    "    resume_file=\"./data/fake_resume.pdf\",\n",
    "    query=\"Where is the first place the applicant worked?\"\n",
    ")\n",
    "print(result)"
   ]
  },
  {
   "cell_type": "markdown",
   "id": "09770f81-5465-4407-b2f3-885dd6a2dc6f",
   "metadata": {},
   "source": [
    "Note: there's a small bug here: if we run this a second time, with a new resume, this code will find the old resume and not bother to parse it. "
   ]
  },
  {
   "cell_type": "markdown",
   "id": "8673e982",
   "metadata": {},
   "source": [
    "## Workflow Visualization"
   ]
  },
  {
   "cell_type": "markdown",
   "id": "b48c5f32-a579-444f-8199-618a1a34b696",
   "metadata": {},
   "source": [
    "You can visualize the workflow you just created."
   ]
  },
  {
   "cell_type": "code",
   "execution_count": 70,
   "id": "460b825b-d395-4c7a-ba78-635cddd4ff02",
   "metadata": {
    "height": 81
   },
   "outputs": [
    {
     "name": "stdout",
     "output_type": "stream",
     "text": [
      "<class 'NoneType'>\n",
      "<class 'llama_index.core.workflow.events.StopEvent'>\n",
      "<class '__main__.QueryEvent'>\n",
      "workflows/rag_workflow.html\n"
     ]
    },
    {
     "data": {
      "text/html": [
       " <div style=\"width: 100%; height: 800px; overflow: hidden;\"> <html>\n",
       "    <head>\n",
       "        <meta charset=\"utf-8\">\n",
       "        \n",
       "            <script src=\"lib/bindings/utils.js\"></script>\n",
       "            <link rel=\"stylesheet\" href=\"https://cdnjs.cloudflare.com/ajax/libs/vis-network/9.1.2/dist/dist/vis-network.min.css\" integrity=\"sha512-WgxfT5LWjfszlPHXRmBWHkV2eceiWTOBvrKCNbdgDYTHrT2AeLCGbF4sZlZw3UMN3WtL0tGUoIAKsu8mllg/XA==\" crossorigin=\"anonymous\" referrerpolicy=\"no-referrer\" />\n",
       "            <script src=\"https://cdnjs.cloudflare.com/ajax/libs/vis-network/9.1.2/dist/vis-network.min.js\" integrity=\"sha512-LnvoEWDFrqGHlHmDD2101OrLcbsfkrzoSpvtSQtxK3RMnRV0eOkhhBN2dXHKRrUU8p2DGRTk35n4O8nWSVe1mQ==\" crossorigin=\"anonymous\" referrerpolicy=\"no-referrer\"></script>\n",
       "            \n",
       "        \n",
       "<center>\n",
       "<h1></h1>\n",
       "</center>\n",
       "\n",
       "<!-- <link rel=\"stylesheet\" href=\"../node_modules/vis/dist/vis.min.css\" type=\"text/css\" />\n",
       "<script type=\"text/javascript\" src=\"../node_modules/vis/dist/vis.js\"> </script>-->\n",
       "        <link\n",
       "          href=\"https://cdn.jsdelivr.net/npm/bootstrap@5.0.0-beta3/dist/css/bootstrap.min.css\"\n",
       "          rel=\"stylesheet\"\n",
       "          integrity=\"sha384-eOJMYsd53ii+scO/bJGFsiCZc+5NDVN2yr8+0RDqr0Ql0h+rP48ckxlpbzKgwra6\"\n",
       "          crossorigin=\"anonymous\"\n",
       "        />\n",
       "        <script\n",
       "          src=\"https://cdn.jsdelivr.net/npm/bootstrap@5.0.0-beta3/dist/js/bootstrap.bundle.min.js\"\n",
       "          integrity=\"sha384-JEW9xMcG8R+pH31jmWH6WWP0WintQrMb4s7ZOdauHnUtxwoG2vI5DkLtS3qm9Ekf\"\n",
       "          crossorigin=\"anonymous\"\n",
       "        ></script>\n",
       "\n",
       "\n",
       "        <center>\n",
       "          <h1></h1>\n",
       "        </center>\n",
       "        <style type=\"text/css\">\n",
       "\n",
       "             #mynetwork {\n",
       "                 width: 100%;\n",
       "                 height: 750px;\n",
       "                 background-color: #ffffff;\n",
       "                 border: 1px solid lightgray;\n",
       "                 position: relative;\n",
       "                 float: left;\n",
       "             }\n",
       "\n",
       "             \n",
       "\n",
       "             \n",
       "\n",
       "             \n",
       "        </style>\n",
       "    </head>\n",
       "\n",
       "\n",
       "    <body>\n",
       "        <div class=\"card\" style=\"width: 100%\">\n",
       "            \n",
       "            \n",
       "            <div id=\"mynetwork\" class=\"card-body\"></div>\n",
       "        </div>\n",
       "\n",
       "        \n",
       "        \n",
       "\n",
       "        <script type=\"text/javascript\">\n",
       "\n",
       "              // initialize global variables.\n",
       "              var edges;\n",
       "              var nodes;\n",
       "              var allNodes;\n",
       "              var allEdges;\n",
       "              var nodeColors;\n",
       "              var originalNodes;\n",
       "              var network;\n",
       "              var container;\n",
       "              var options, data;\n",
       "              var filter = {\n",
       "                  item : '',\n",
       "                  property : '',\n",
       "                  value : []\n",
       "              };\n",
       "\n",
       "              \n",
       "\n",
       "              \n",
       "\n",
       "              // This method is responsible for drawing the graph, returns the drawn network\n",
       "              function drawGraph() {\n",
       "                  var container = document.getElementById('mynetwork');\n",
       "\n",
       "                  \n",
       "\n",
       "                  // parsing and collecting nodes and edges from the python\n",
       "                  nodes = new vis.DataSet([{\"color\": \"#FFA07A\", \"id\": \"StopEvent\", \"label\": \"StopEvent\", \"shape\": \"ellipse\"}, {\"color\": \"#ADD8E6\", \"id\": \"_done\", \"label\": \"_done\", \"shape\": \"box\"}, {\"color\": \"#ADD8E6\", \"id\": \"ask_question\", \"label\": \"ask_question\", \"shape\": \"box\"}, {\"color\": \"#90EE90\", \"id\": \"QueryEvent\", \"label\": \"QueryEvent\", \"shape\": \"ellipse\"}, {\"color\": \"#ADD8E6\", \"id\": \"set_up\", \"label\": \"set_up\", \"shape\": \"box\"}, {\"color\": \"#E27AFF\", \"id\": \"StartEvent\", \"label\": \"StartEvent\", \"shape\": \"ellipse\"}]);\n",
       "                  edges = new vis.DataSet([{\"arrows\": \"to\", \"from\": \"StopEvent\", \"to\": \"_done\"}, {\"arrows\": \"to\", \"from\": \"ask_question\", \"to\": \"StopEvent\"}, {\"arrows\": \"to\", \"from\": \"QueryEvent\", \"to\": \"ask_question\"}, {\"arrows\": \"to\", \"from\": \"set_up\", \"to\": \"QueryEvent\"}, {\"arrows\": \"to\", \"from\": \"StartEvent\", \"to\": \"set_up\"}]);\n",
       "\n",
       "                  nodeColors = {};\n",
       "                  allNodes = nodes.get({ returnType: \"Object\" });\n",
       "                  for (nodeId in allNodes) {\n",
       "                    nodeColors[nodeId] = allNodes[nodeId].color;\n",
       "                  }\n",
       "                  allEdges = edges.get({ returnType: \"Object\" });\n",
       "                  // adding nodes and edges to the graph\n",
       "                  data = {nodes: nodes, edges: edges};\n",
       "\n",
       "                  var options = {\n",
       "    \"configure\": {\n",
       "        \"enabled\": false\n",
       "    },\n",
       "    \"edges\": {\n",
       "        \"color\": {\n",
       "            \"inherit\": true\n",
       "        },\n",
       "        \"smooth\": {\n",
       "            \"enabled\": true,\n",
       "            \"type\": \"dynamic\"\n",
       "        }\n",
       "    },\n",
       "    \"interaction\": {\n",
       "        \"dragNodes\": true,\n",
       "        \"hideEdgesOnDrag\": false,\n",
       "        \"hideNodesOnDrag\": false\n",
       "    },\n",
       "    \"physics\": {\n",
       "        \"enabled\": true,\n",
       "        \"stabilization\": {\n",
       "            \"enabled\": true,\n",
       "            \"fit\": true,\n",
       "            \"iterations\": 1000,\n",
       "            \"onlyDynamicEdges\": false,\n",
       "            \"updateInterval\": 50\n",
       "        }\n",
       "    }\n",
       "};\n",
       "\n",
       "                  \n",
       "\n",
       "\n",
       "                  \n",
       "\n",
       "                  network = new vis.Network(container, data, options);\n",
       "\n",
       "                  \n",
       "\n",
       "                  \n",
       "\n",
       "                  \n",
       "\n",
       "\n",
       "                  \n",
       "\n",
       "                  return network;\n",
       "\n",
       "              }\n",
       "              drawGraph();\n",
       "        </script>\n",
       "    </body>\n",
       "</html> </div>"
      ],
      "text/plain": [
       "<IPython.core.display.HTML object>"
      ]
     },
     "metadata": {
      "isolated": true
     },
     "output_type": "display_data"
    }
   ],
   "source": [
    "WORKFLOW_FILE = \"workflows/rag_workflow.html\"\n",
    "draw_all_possible_flows(w, filename=WORKFLOW_FILE)\n",
    "html_content = extract_html_content(WORKFLOW_FILE)\n",
    "display(HTML(html_content), metadata=dict(isolated=True))"
   ]
  }
 ],
 "metadata": {
  "kernelspec": {
   "display_name": "Python 3 (ipykernel)",
   "language": "python",
   "name": "python3"
  },
  "language_info": {
   "codemirror_mode": {
    "name": "ipython",
    "version": 3
   },
   "file_extension": ".py",
   "mimetype": "text/x-python",
   "name": "python",
   "nbconvert_exporter": "python",
   "pygments_lexer": "ipython3",
   "version": "3.10.2"
  }
 },
 "nbformat": 4,
 "nbformat_minor": 5
}
