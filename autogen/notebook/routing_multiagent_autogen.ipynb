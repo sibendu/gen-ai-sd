{
 "cells": [
  {
   "cell_type": "code",
   "execution_count": 3,
   "id": "60b43a2a-69b0-46ca-bb51-857fc4d55d3c",
   "metadata": {},
   "outputs": [
    {
     "name": "stdout",
     "output_type": "stream",
     "text": [
      "azure/gpt-4\n"
     ]
    }
   ],
   "source": [
    "import os \n",
    "from dotenv import load_dotenv\n",
    "load_dotenv('../../.env')\n",
    "\n",
    "model=os.environ.get('model')\n",
    "print(model)\n",
    "\n",
    "os.environ[\"AZURE_OPENAI_ENDPOINT\"] = os.environ.get('AZURE_API_BASE')\n",
    "os.environ[\"AZURE_OPENAI_API_KEY\"] = os.environ.get('AZURE_API_KEY')\n",
    "os.environ[\"AZURE_OPENAI_API_VERSION\"] = os.environ.get('AZURE_API_VERSION')"
   ]
  },
  {
   "cell_type": "code",
   "execution_count": 2,
   "id": "05c18d24-0695-4b00-b9da-c2b5d65c0b01",
   "metadata": {},
   "outputs": [],
   "source": [
    "from autogen import Agent "
   ]
  },
  {
   "cell_type": "code",
   "execution_count": 16,
   "id": "cef0a47d-3300-464a-a934-854208afc678",
   "metadata": {},
   "outputs": [],
   "source": [
    "# Define the child agents  \n",
    "class FlightAgent(Agent):  \n",
    "    def process(self, query):  \n",
    "        return f\"FlightAgent handling query: {query}\"  \n",
    "  \n",
    "class TrainAgent(Agent):  \n",
    "    def process(self, query):  \n",
    "        return f\"TrainAgent handling query: {query}\"  \n",
    "  \n",
    "class TravelAssistantAgent(Agent):  \n",
    "    def process(self, query):  \n",
    "        return f\"TravelAssistantAgent handling query: {query}\"  \n",
    "  \n",
    "class StockAgent(Agent):  \n",
    "    def process(self, query):  \n",
    "        return f\"StockAgent handling query: {query}\"  \n",
    "  \n",
    "class MutualFundAgent(Agent):  \n",
    "    def process(self, query):  \n",
    "        return f\"MutualFundAgent handling query: {query}\"  \n",
    "  \n",
    "class FinanceAssistantAgent(Agent):  \n",
    "    def process(self, query):  \n",
    "        return f\"FinanceAssistantAgent handling query: {query}\""
   ]
  },
  {
   "cell_type": "code",
   "execution_count": 18,
   "id": "086b7809-a3d4-4837-9645-54d35b296645",
   "metadata": {},
   "outputs": [],
   "source": [
    "# Define the supervisor agents  \n",
    "class TravelSupervisor:  \n",
    "    def route(self, query):  \n",
    "        if \"flight\" in query.lower():  \n",
    "            return FlightAgent()  \n",
    "        elif \"train\" in query.lower():  \n",
    "            return TrainAgent()  \n",
    "        else:  \n",
    "            return TravelAssistantAgent()  \n",
    "  \n",
    "class FinanceSupervisor:  \n",
    "    def route(self, query):  \n",
    "        if \"stock\" in query.lower():  \n",
    "            return StockAgent()  \n",
    "        elif \"mutual fund\" in query.lower():  \n",
    "            return MutualFundAgent()  \n",
    "        else:  \n",
    "            return FinanceAssistantAgent()  \n",
    "  \n",
    "class CustomerSupervisor:  \n",
    "    def __init__(self):  \n",
    "        self.travel_supervisor = TravelSupervisor()  \n",
    "        self.finance_supervisor = FinanceSupervisor()  \n",
    "  \n",
    "    def route(self, query):  \n",
    "        if \"travel\" in query.lower():  \n",
    "            return self.travel_supervisor.route(query)  \n",
    "        elif \"finance\" in query.lower():  \n",
    "            return self.finance_supervisor.route(query)  \n",
    "        else:  \n",
    "            return None  # No matching supervisor found  "
   ]
  },
  {
   "cell_type": "code",
   "execution_count": 20,
   "id": "6ac83774-bc32-4a69-a6f0-5dc1560361f8",
   "metadata": {},
   "outputs": [
    {
     "name": "stdout",
     "output_type": "stream",
     "text": [
      "Customer query: I am travelling and want to book a flight to New York\n",
      "Response: FlightAgent handling query: I am travelling and want to book a flight to New York\n",
      "--------------------------------------------------\n",
      "Customer query: I am travelling and Can you help me with train schedules?\n",
      "Response: TrainAgent handling query: I am travelling and Can you help me with train schedules?\n",
      "--------------------------------------------------\n",
      "Customer query: I am looking for finance and Tell me about mutual funds\n",
      "Response: MutualFundAgent handling query: I am looking for finance and Tell me about mutual funds\n",
      "--------------------------------------------------\n",
      "Customer query: I am looking for finance and What are the current stock prices?\n",
      "Response: StockAgent handling query: I am looking for finance and What are the current stock prices?\n",
      "--------------------------------------------------\n",
      "Customer query: I am looking for finance and Is it a good time to invest in real estate?\n",
      "Response: FinanceAssistantAgent handling query: I am looking for finance and Is it a good time to invest in real estate?\n",
      "--------------------------------------------------\n"
     ]
    }
   ],
   "source": [
    "# Main code to handle customer queries  \n",
    "if __name__ == \"__main__\":  \n",
    "    # Create the top-level supervisor  \n",
    "    customer_supervisor = CustomerSupervisor()  \n",
    "  \n",
    "    # Example queries  \n",
    "    queries = [  \n",
    "        \"I am travelling and want to book a flight to New York\",  \n",
    "        \"I am travelling and Can you help me with train schedules?\",  \n",
    "        \"I am looking for finance and Tell me about mutual funds\",  \n",
    "        \"I am looking for finance and What are the current stock prices?\",  \n",
    "        \"I am looking for finance and Is it a good time to invest in real estate?\",  \n",
    "    ]  \n",
    "  \n",
    "    # Process each query  \n",
    "    for query in queries:  \n",
    "        print(f\"Customer query: {query}\")  \n",
    "        agent = customer_supervisor.route(query)  \n",
    "        if agent:  \n",
    "            response = agent.process(query)  \n",
    "            print(f\"Response: {response}\")  \n",
    "        else:  \n",
    "            print(\"No suitable agent found to handle the query.\")  \n",
    "        print(\"-\" * 50)  "
   ]
  },
  {
   "cell_type": "code",
   "execution_count": null,
   "id": "766ec37a-009e-4a25-846e-a56cea48ad90",
   "metadata": {},
   "outputs": [],
   "source": []
  }
 ],
 "metadata": {
  "kernelspec": {
   "display_name": ".venv",
   "language": "python",
   "name": ".venv"
  },
  "language_info": {
   "codemirror_mode": {
    "name": "ipython",
    "version": 3
   },
   "file_extension": ".py",
   "mimetype": "text/x-python",
   "name": "python",
   "nbconvert_exporter": "python",
   "pygments_lexer": "ipython3",
   "version": "3.10.2"
  }
 },
 "nbformat": 4,
 "nbformat_minor": 5
}
